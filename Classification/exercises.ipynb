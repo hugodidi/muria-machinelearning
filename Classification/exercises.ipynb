{
 "cells": [
  {
   "cell_type": "markdown",
   "id": "2b3b8b94",
   "metadata": {},
   "source": [
    "### Este archivo funciona como entregable para los ejercicios de la parte de clasificación de la asignatura de Aprendizaje Automático.\n",
    "\n",
    "*Hugo Díaz Díaz* (*hdiazd00@estudiantes.unileon.es*)\n",
    "\n",
    "*Correo profesional: hugo.didi.contacto@gmail.com*\n",
    "\n",
    "---\n",
    "\n",
    "> \n",
    "> En este cuaderno encontrarás:\n",
    ">- La construcción de un **clasificador para el dataset MNIST** con exactitud igual o superior al 97%.\n",
    ">- La realización de **Data Augmentation** sobre este conjunto de datos.\n",
    ">- ***(OPCIONAL)*** La creación de un modelo sobre el dataset del *Titanic*.\n",
    "> "
   ]
  },
  {
   "cell_type": "markdown",
   "id": "de082627",
   "metadata": {},
   "source": [
    "### Ejercicio 1\n",
    "Intenta construir un clasificador para el conjunto de datos MNIST que alcance una exactitud superior al 97 % en el conjunto de test.\n",
    "\n",
    "#### 1.1 Carga del dataset y pasos preliminares"
   ]
  }
 ],
 "metadata": {
  "language_info": {
   "name": "python"
  }
 },
 "nbformat": 4,
 "nbformat_minor": 5
}
