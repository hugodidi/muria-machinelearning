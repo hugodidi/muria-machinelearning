{
 "cells": [
  {
   "cell_type": "markdown",
   "metadata": {
    "id": "wWiz9OjHtYe8"
   },
   "source": [
    "# Clasificación\n",
    "\n",
    "Hemos mencionado que las tareas de aprendizaje supervisado más comunes son la regresión (predicción de valores) y la clasificación (predicción de clases). En el tema anterior, trabajamos sobre una tarea de regresión, la predicción de valores de viviendas, utilizando varios algoritmos: regresión lineal, árboles de decisión y bosques aleatorios. Ahora nos centraremos en los sistemas de clasificación."
   ]
  },
  {
   "cell_type": "markdown",
   "metadata": {
    "id": "BC8kGyrdtYe-"
   },
   "source": [
    "## Configuraciones previas"
   ]
  },
  {
   "cell_type": "markdown",
   "metadata": {
    "id": "b-6hJ1uDtYe-"
   },
   "source": [
    "Primero, vamos a importar algunos módulos comunes, asegurarnos de que MatplotLib visualiza las figuras en línea y preparar una función para guardar las figuras. También comprobaremos que Python 3.5 o posterior está instalado, así como Scikit-Learn ≥0.20."
   ]
  },
  {
   "cell_type": "code",
   "execution_count": null,
   "metadata": {
    "executionInfo": {
     "elapsed": 1774,
     "status": "ok",
     "timestamp": 1758704885269,
     "user": {
      "displayName": "David Sobrín Hidalgo",
      "userId": "16033175351296331827"
     },
     "user_tz": -120
    },
    "id": "ktlkNuzrtYe_"
   },
   "outputs": [],
   "source": [
    "# Python ≥3.5 is required\n",
    "import sys\n",
    "assert sys.version_info >= (3, 5)\n",
    "\n",
    "# Is this notebook running on Colab or Kaggle?\n",
    "IS_COLAB = \"google.colab\" in sys.modules\n",
    "IS_KAGGLE = \"kaggle_secrets\" in sys.modules\n",
    "\n",
    "# Scikit-Learn ≥0.20 is required\n",
    "import sklearn\n",
    "assert sklearn.__version__ >= \"0.20\"\n",
    "\n",
    "# Common imports\n",
    "import numpy as np\n",
    "import os\n",
    "\n",
    "# to make this notebook's output stable across runs\n",
    "np.random.seed(42)\n",
    "\n",
    "# To plot pretty figures\n",
    "%matplotlib inline\n",
    "import matplotlib as mpl\n",
    "import matplotlib.pyplot as plt\n",
    "mpl.rc('axes', labelsize=14)\n",
    "mpl.rc('xtick', labelsize=12)\n",
    "mpl.rc('ytick', labelsize=12)\n",
    "\n",
    "# Where to save the figures\n",
    "PROJECT_ROOT_DIR = \"..\"\n",
    "CHAPTER_ID = \"classification\"\n",
    "IMAGES_PATH = os.path.join(PROJECT_ROOT_DIR, \"images\", CHAPTER_ID)\n",
    "os.makedirs(IMAGES_PATH, exist_ok=True)\n",
    "\n",
    "def save_fig(fig_id, tight_layout=True, fig_extension=\"png\", resolution=300):\n",
    "    path = os.path.join(IMAGES_PATH, fig_id + \".\" + fig_extension)\n",
    "    print(\"Saving figure\", fig_id)\n",
    "    if tight_layout:\n",
    "        plt.tight_layout()\n",
    "    plt.savefig(path, format=fig_extension, dpi=resolution)"
   ]
  },
  {
   "cell_type": "markdown",
   "metadata": {
    "id": "bqr0JTw3tYfA"
   },
   "source": [
    "## MNIST"
   ]
  },
  {
   "cell_type": "markdown",
   "metadata": {
    "id": "1meuLtQXrCd0"
   },
   "source": [
    "Utilizaremos el conjunto de datos **MNIST**, que es un conjunto de 70.000 pequeñas\n",
    "imágenes de **dígitos escritos a mano** por estudiantes de secundaria y empleados de la Oficina del Censo de EEUU.\n",
    "\n",
    "- Cada imagen está **etiquetada** con el dígito que representa."
   ]
  },
  {
   "cell_type": "markdown",
   "metadata": {
    "id": "o1Y4ocrLtYfA"
   },
   "source": [
    "Scikit-Learn proporciona muchas funciones de ayuda para descargar conjuntos de datos populares. MNIST es uno de ellos. El siguiente código obtiene la base de datos MNIST:\n",
    "\n",
    "> **Atención:** desde Scikit-Learn 0.24, `fetch_openml()` devuelve un Pandas `DataFrame` por defecto. Para evitar esto y trabajar con un array NumPy, usamos `as_frame=False`."
   ]
  },
  {
   "cell_type": "code",
   "execution_count": 10,
   "metadata": {
    "colab": {
     "base_uri": "https://localhost:8080/"
    },
    "id": "msdcA7OEtYfA",
    "outputId": "ba12a047-1270-4c34-e59b-121a2106c232"
   },
   "outputs": [
    {
     "data": {
      "text/plain": [
       "dict_keys(['data', 'target', 'frame', 'categories', 'feature_names', 'target_names', 'DESCR', 'details', 'url'])"
      ]
     },
     "execution_count": 10,
     "metadata": {},
     "output_type": "execute_result"
    }
   ],
   "source": [
    "from sklearn.datasets import fetch_openml\n",
    "mnist = fetch_openml('mnist_784', version=1, as_frame=False)\n",
    "mnist.keys()"
   ]
  },
  {
   "cell_type": "markdown",
   "metadata": {
    "id": "rEno5o3ztZNm"
   },
   "source": [
    "Los conjuntos de datos cargados por Scikit-Learn suelen tener una estructura de diccionario similar que incluye:\n",
    "\n",
    "- Una clave `DESCR` que describe el conjunto de datos\n",
    "- Una clave `data` que contiene una matriz con una fila por instancia y una columna por\n",
    "característica\n",
    "- Una clave `target` que contiene una matriz con las etiquetas.\n",
    "\n",
    "Veamos estas matrices:"
   ]
  },
  {
   "cell_type": "code",
   "execution_count": 36,
   "metadata": {
    "colab": {
     "base_uri": "https://localhost:8080/"
    },
    "id": "45Ia74GBtYfB",
    "outputId": "93560049-8461-4ccd-d976-2b42022c8f4b"
   },
   "outputs": [
    {
     "data": {
      "text/plain": [
       "(70000, 784)"
      ]
     },
     "execution_count": 36,
     "metadata": {},
     "output_type": "execute_result"
    }
   ],
   "source": [
    "X, y = mnist[\"data\"], mnist[\"target\"]\n",
    "X.shape"
   ]
  },
  {
   "cell_type": "code",
   "execution_count": 37,
   "metadata": {
    "colab": {
     "base_uri": "https://localhost:8080/"
    },
    "id": "KoN2Lt_vtYfB",
    "outputId": "631f5b24-62b0-4401-953c-d180a5ab89c9"
   },
   "outputs": [
    {
     "data": {
      "text/plain": [
       "(70000,)"
      ]
     },
     "execution_count": 37,
     "metadata": {},
     "output_type": "execute_result"
    }
   ],
   "source": [
    "y.shape"
   ]
  },
  {
   "cell_type": "markdown",
   "metadata": {
    "id": "1swvVl74tz7-"
   },
   "source": [
    "Hay 70.000 imágenes, y cada imagen tiene 784 características. Esto se debe a que cada imagen es de 28×28 píxeles, y cada característica representa simplemente la intensidad de un píxel, de 0 (blanco) a 255 (negro)."
   ]
  },
  {
   "cell_type": "code",
   "execution_count": 41,
   "metadata": {
    "colab": {
     "base_uri": "https://localhost:8080/"
    },
    "id": "rPUJqJDZtYfC",
    "outputId": "84adb6f7-044e-4cb9-a413-a5fd0c020192"
   },
   "outputs": [
    {
     "data": {
      "text/plain": [
       "784"
      ]
     },
     "execution_count": 41,
     "metadata": {},
     "output_type": "execute_result"
    }
   ],
   "source": [
    "28 * 28"
   ]
  },
  {
   "cell_type": "markdown",
   "metadata": {
    "id": "8C7Ig3TiV7PO"
   },
   "source": [
    "Veamos un dígito del conjunto de datos. Basta con coger el vector de características de una instancia, darle forma de matriz de 28×28 y mostrarlo con la función Matplotlib `imshow()`:"
   ]
  },
  {
   "cell_type": "code",
   "execution_count": 54,
   "metadata": {
    "colab": {
     "base_uri": "https://localhost:8080/",
     "height": 504
    },
    "id": "_hi1at71tYfC",
    "outputId": "32399107-e570-4a33-c7ff-7b3e29fb4b33"
   },
   "outputs": [
    {
     "name": "stdout",
     "output_type": "stream",
     "text": [
      "Saving figure some_digit_plot\n"
     ]
    },
    {
     "data": {
      "image/png": "[encoded data removed]",
      "text/plain": [
       "<Figure size 640x480 with 1 Axes>"
      ]
     },
     "metadata": {},
     "output_type": "display_data"
    }
   ],
   "source": [
    "%matplotlib inline\n",
    "import matplotlib as mpl\n",
    "import matplotlib.pyplot as plt\n",
    "\n",
    "some_digit = X[0]\n",
    "some_digit_image = some_digit.reshape(28, 28)\n",
    "plt.imshow(some_digit_image, cmap=mpl.cm.binary)\n",
    "plt.axis(\"off\")\n",
    "\n",
    "save_fig(\"some_digit_plot\")\n",
    "plt.show()"
   ]
  },
  {
   "cell_type": "markdown",
   "metadata": {
    "id": "dab-LuvUua_e"
   },
   "source": [
    "Parece un 5, y de hecho eso es lo que nos dice la etiqueta:"
   ]
  },
  {
   "cell_type": "code",
   "execution_count": 55,
   "metadata": {
    "colab": {
     "base_uri": "https://localhost:8080/",
     "height": 36
    },
    "id": "qe5tuDqAtYfC",
    "outputId": "07a4b2fe-7027-4b56-b9cd-769a563d8b30",
    "scrolled": true
   },
   "outputs": [
    {
     "data": {
      "text/plain": [
       "'5'"
      ]
     },
     "execution_count": 55,
     "metadata": {},
     "output_type": "execute_result"
    }
   ],
   "source": [
    "y[0]"
   ]
  },
  {
   "cell_type": "markdown",
   "metadata": {
    "id": "kfrhYIJeugOd"
   },
   "source": [
    "Observa que la etiqueta es una cadena. Es preferible trabajar con números, así que convirtamos `y` a entero:"
   ]
  },
  {
   "cell_type": "code",
   "execution_count": 57,
   "metadata": {
    "id": "DyBBQK14tYfD"
   },
   "outputs": [],
   "source": [
    "y = y.astype(np.uint8)"
   ]
  },
  {
   "cell_type": "code",
   "execution_count": 58,
   "metadata": {
    "colab": {
     "base_uri": "https://localhost:8080/"
    },
    "id": "qTZZF8eetYfE",
    "outputId": "a888901f-01f7-408b-a3f0-693b9d9b2b22"
   },
   "outputs": [
    {
     "data": {
      "text/plain": [
       "np.uint8(5)"
      ]
     },
     "execution_count": 58,
     "metadata": {},
     "output_type": "execute_result"
    }
   ],
   "source": [
    "y[0]"
   ]
  },
  {
   "cell_type": "markdown",
   "metadata": {
    "id": "uct_9kY-uxrX"
   },
   "source": [
    "La siguiente figura muestra algunas imágenes más del MNIST:"
   ]
  },
  {
   "cell_type": "code",
   "execution_count": 59,
   "metadata": {
    "id": "12U-Dk7dtYfD"
   },
   "outputs": [],
   "source": [
    "def plot_digit(data):\n",
    "    image = data.reshape(28, 28)\n",
    "    plt.imshow(image, cmap = mpl.cm.binary,\n",
    "               interpolation=\"nearest\")\n",
    "    plt.axis(\"off\")"
   ]
  },
  {
   "cell_type": "code",
   "execution_count": 60,
   "metadata": {
    "id": "sezsk3rGtYfD"
   },
   "outputs": [],
   "source": [
    "# EXTRA\n",
    "def plot_digits(instances, images_per_row=10, **options):\n",
    "    size = 28\n",
    "    images_per_row = min(len(instances), images_per_row)\n",
    "    images = [instance.reshape(size,size) for instance in instances]\n",
    "    n_rows = (len(instances) - 1) // images_per_row + 1\n",
    "    row_images = []\n",
    "    n_empty = n_rows * images_per_row - len(instances)\n",
    "    images.append(np.zeros((size, size * n_empty)))\n",
    "    for row in range(n_rows):\n",
    "        rimages = images[row * images_per_row : (row + 1) * images_per_row]\n",
    "        row_images.append(np.concatenate(rimages, axis=1))\n",
    "    image = np.concatenate(row_images, axis=0)\n",
    "    plt.imshow(image, cmap = mpl.cm.binary, **options)\n",
    "    plt.axis(\"off\")"
   ]
  },
  {
   "cell_type": "code",
   "execution_count": 63,
   "metadata": {
    "colab": {
     "base_uri": "https://localhost:8080/",
     "height": 923
    },
    "id": "P-o8GO_YtYfD",
    "outputId": "cca1f87a-ab37-4876-f67c-0e10cb19638f"
   },
   "outputs": [
    {
     "name": "stdout",
     "output_type": "stream",
     "text": [
      "Saving figure more_digits_plot\n"
     ]
    },
    {
     "data": {
      "image/png": "[encoded data removed]",
      "text/plain": [
       "<Figure size 900x900 with 1 Axes>"
      ]
     },
     "metadata": {},
     "output_type": "display_data"
    }
   ],
   "source": [
    "plt.figure(figsize=(9,9))\n",
    "example_images = X[:100]\n",
    "plot_digits(example_images, images_per_row=10)\n",
    "save_fig(\"more_digits_plot\")\n",
    "plt.show()"
   ]
  },
  {
   "cell_type": "markdown",
   "metadata": {
    "id": "evOD3vExvsAu"
   },
   "source": [
    "**Siempre se debe crear un conjunto de test y dejarlo a un lado antes de inspeccionar los datos**.\n",
    "\n",
    "El conjunto de datos MNIST ya está dividido en un conjunto de entrenamiento (las primeras 60.000 imágenes) y un conjunto de test (las últimas 10.000 imágenes):"
   ]
  },
  {
   "cell_type": "code",
   "execution_count": 64,
   "metadata": {
    "id": "b6UqJpMOtYfF"
   },
   "outputs": [],
   "source": [
    "X_train, X_test, y_train, y_test = X[:60000], X[60000:], y[:60000], y[60000:]"
   ]
  },
  {
   "cell_type": "markdown",
   "metadata": {
    "id": "-aA1_qtcxo9v"
   },
   "source": [
    "**El conjunto de entrenamiento ya está barajado para nosotros**,\n",
    "\n",
    "- lo que es bueno, ya que garantiza que todos los conjuntos de validación cruzada serán similares (no queremos que a un pliegue le falten algunos dígitos).\n",
    "\n",
    "- Además, algunos algoritmos de aprendizaje son sensibles al orden de las muestras de entrenamiento y obtienen malos resultados si reciben muchas muestras similares seguidas.\n",
    "\n",
    "- Barajar el conjunto de datos garantiza que esto no ocurra."
   ]
  },
  {
   "cell_type": "markdown",
   "metadata": {
    "id": "ikK6cF2ntYfF"
   },
   "source": [
    "## Entrenamiento de un clasificador binario"
   ]
  },
  {
   "cell_type": "markdown",
   "metadata": {
    "id": "jurn-Y5-zKot"
   },
   "source": [
    "**Simplifiquemos el problema** e intentemos **identificar sólo un dígito**, por ejemplo, el número 5.\n",
    "\n",
    "- Este \"detector de 5\" es un ejemplo de clasificador binario,\n",
    "\n",
    "  - capaz de distinguir entre sólo dos clases, **5** y **no-5**.\n",
    "\n",
    "- Vamos a crear los vectores objetivo para esta tarea de clasificación:"
   ]
  },
  {
   "cell_type": "code",
   "execution_count": 66,
   "metadata": {
    "id": "0ce7PdOltYfF"
   },
   "outputs": [],
   "source": [
    "y_train_5 = (y_train == 5)\n",
    "y_test_5 = (y_test == 5)"
   ]
  },
  {
   "cell_type": "markdown",
   "metadata": {
    "id": "nxkAQofctYfF"
   },
   "source": [
    "**Ahora vamos a elegir un clasificador y entrenarlo**.\n",
    "\n",
    "- Un buen lugar para empezar es con un clasificador **Stochastic Gradient Descent (SGD)**, usando la clase `SGDClassifier` de Scikit-Learn.\n",
    "\n",
    "- Este clasificador\n",
    "es capaz de manejar conjuntos de datos muy grandes de manera eficiente.\n",
    "\n",
    "- Esto se debe en parte a que SGD trata las muestras de entrenamiento de forma independiente, de una en una\n",
    "(lo que también hace que SGD sea adecuado para *aprendizaje on-line*), como veremos más adelante.\n",
    "\n",
    "- Crearemos un `SGDClassifier` y lo entrenaremos con todo el conjunto de entrenamiento.\n",
    "\n",
    "> **Nota**: algunos hiperparámetros tendrán un valor diferente en futuras versiones de Scikit-Learn, como `max_iter` y `tol`. Para estar preparados para el futuro, establecemos explícitamente estos hiperparámetros a sus futuros valores por defecto.\n",
    "\n",
    "> **Nota**: El `SGDClassifier` se basa en la aleatoriedad durante el entrenamiento (de ahí el nombre de \"estocástico\"). Si desea obtener resultados reproducibles\n",
    "Debemos establecer el parámetro `random_state`."
   ]
  },
  {
   "cell_type": "code",
   "execution_count": 67,
   "metadata": {
    "colab": {
     "base_uri": "https://localhost:8080/",
     "height": 80
    },
    "id": "6pZaKyqatYfF",
    "outputId": "6f7a42db-8e02-4fb3-f059-b52285e4309d"
   },
   "outputs": [
    {
     "data": {
      "text/html": [
       "<style>#sk-container-id-1 {\n",
       "  /* Definition of color scheme common for light and dark mode */\n",
       "  --sklearn-color-text: #000;\n",
       "  --sklearn-color-text-muted: #666;\n",
       "  --sklearn-color-line: gray;\n",
       "  /* Definition of color scheme for unfitted estimators */\n",
       "  --sklearn-color-unfitted-level-0: #fff5e6;\n",
       "  --sklearn-color-unfitted-level-1: #f6e4d2;\n",
       "  --sklearn-color-unfitted-level-2: #ffe0b3;\n",
       "  --sklearn-color-unfitted-level-3: chocolate;\n",
       "  /* Definition of color scheme for fitted estimators */\n",
       "  --sklearn-color-fitted-level-0: #f0f8ff;\n",
       "  --sklearn-color-fitted-level-1: #d4ebff;\n",
       "  --sklearn-color-fitted-level-2: #b3dbfd;\n",
       "  --sklearn-color-fitted-level-3: cornflowerblue;\n",
       "\n",
       "  /* Specific color for light theme */\n",
       "  --sklearn-color-text-on-default-background: var(--sg-text-color, var(--theme-code-foreground, var(--jp-content-font-color1, black)));\n",
       "  --sklearn-color-background: var(--sg-background-color, var(--theme-background, var(--jp-layout-color0, white)));\n",
       "  --sklearn-color-border-box: var(--sg-text-color, var(--theme-code-foreground, var(--jp-content-font-color1, black)));\n",
       "  --sklearn-color-icon: #696969;\n",
       "\n",
       "  @media (prefers-color-scheme: dark) {\n",
       "    /* Redefinition of color scheme for dark theme */\n",
       "    --sklearn-color-text-on-default-background: var(--sg-text-color, var(--theme-code-foreground, var(--jp-content-font-color1, white)));\n",
       "    --sklearn-color-background: var(--sg-background-color, var(--theme-background, var(--jp-layout-color0, #111)));\n",
       "    --sklearn-color-border-box: var(--sg-text-color, var(--theme-code-foreground, var(--jp-content-font-color1, white)));\n",
       "    --sklearn-color-icon: #878787;\n",
       "  }\n",
       "}\n",
       "\n",
       "#sk-container-id-1 {\n",
       "  color: var(--sklearn-color-text);\n",
       "}\n",
       "\n",
       "#sk-container-id-1 pre {\n",
       "  padding: 0;\n",
       "}\n",
       "\n",
       "#sk-container-id-1 input.sk-hidden--visually {\n",
       "  border: 0;\n",
       "  clip: rect(1px 1px 1px 1px);\n",
       "  clip: rect(1px, 1px, 1px, 1px);\n",
       "  height: 1px;\n",
       "  margin: -1px;\n",
       "  overflow: hidden;\n",
       "  padding: 0;\n",
       "  position: absolute;\n",
       "  width: 1px;\n",
       "}\n",
       "\n",
       "#sk-container-id-1 div.sk-dashed-wrapped {\n",
       "  border: 1px dashed var(--sklearn-color-line);\n",
       "  margin: 0 0.4em 0.5em 0.4em;\n",
       "  box-sizing: border-box;\n",
       "  padding-bottom: 0.4em;\n",
       "  background-color: var(--sklearn-color-background);\n",
       "}\n",
       "\n",
       "#sk-container-id-1 div.sk-container {\n",
       "  /* jupyter's `normalize.less` sets `[hidden] { display: none; }`\n",
       "     but bootstrap.min.css set `[hidden] { display: none !important; }`\n",
       "     so we also need the `!important` here to be able to override the\n",
       "     default hidden behavior on the sphinx rendered scikit-learn.org.\n",
       "     See: https://github.com/scikit-learn/scikit-learn/issues/21755 */\n",
       "  display: inline-block !important;\n",
       "  position: relative;\n",
       "}\n",
       "\n",
       "#sk-container-id-1 div.sk-text-repr-fallback {\n",
       "  display: none;\n",
       "}\n",
       "\n",
       "div.sk-parallel-item,\n",
       "div.sk-serial,\n",
       "div.sk-item {\n",
       "  /* draw centered vertical line to link estimators */\n",
       "  background-image: linear-gradient(var(--sklearn-color-text-on-default-background), var(--sklearn-color-text-on-default-background));\n",
       "  background-size: 2px 100%;\n",
       "  background-repeat: no-repeat;\n",
       "  background-position: center center;\n",
       "}\n",
       "\n",
       "/* Parallel-specific style estimator block */\n",
       "\n",
       "#sk-container-id-1 div.sk-parallel-item::after {\n",
       "  content: \"\";\n",
       "  width: 100%;\n",
       "  border-bottom: 2px solid var(--sklearn-color-text-on-default-background);\n",
       "  flex-grow: 1;\n",
       "}\n",
       "\n",
       "#sk-container-id-1 div.sk-parallel {\n",
       "  display: flex;\n",
       "  align-items: stretch;\n",
       "  justify-content: center;\n",
       "  background-color: var(--sklearn-color-background);\n",
       "  position: relative;\n",
       "}\n",
       "\n",
       "#sk-container-id-1 div.sk-parallel-item {\n",
       "  display: flex;\n",
       "  flex-direction: column;\n",
       "}\n",
       "\n",
       "#sk-container-id-1 div.sk-parallel-item:first-child::after {\n",
       "  align-self: flex-end;\n",
       "  width: 50%;\n",
       "}\n",
       "\n",
       "#sk-container-id-1 div.sk-parallel-item:last-child::after {\n",
       "  align-self: flex-start;\n",
       "  width: 50%;\n",
       "}\n",
       "\n",
       "#sk-container-id-1 div.sk-parallel-item:only-child::after {\n",
       "  width: 0;\n",
       "}\n",
       "\n",
       "/* Serial-specific style estimator block */\n",
       "\n",
       "#sk-container-id-1 div.sk-serial {\n",
       "  display: flex;\n",
       "  flex-direction: column;\n",
       "  align-items: center;\n",
       "  background-color: var(--sklearn-color-background);\n",
       "  padding-right: 1em;\n",
       "  padding-left: 1em;\n",
       "}\n",
       "\n",
       "\n",
       "/* Toggleable style: style used for estimator/Pipeline/ColumnTransformer box that is\n",
       "clickable and can be expanded/collapsed.\n",
       "- Pipeline and ColumnTransformer use this feature and define the default style\n",
       "- Estimators will overwrite some part of the style using the `sk-estimator` class\n",
       "*/\n",
       "\n",
       "/* Pipeline and ColumnTransformer style (default) */\n",
       "\n",
       "#sk-container-id-1 div.sk-toggleable {\n",
       "  /* Default theme specific background. It is overwritten whether we have a\n",
       "  specific estimator or a Pipeline/ColumnTransformer */\n",
       "  background-color: var(--sklearn-color-background);\n",
       "}\n",
       "\n",
       "/* Toggleable label */\n",
       "#sk-container-id-1 label.sk-toggleable__label {\n",
       "  cursor: pointer;\n",
       "  display: flex;\n",
       "  width: 100%;\n",
       "  margin-bottom: 0;\n",
       "  padding: 0.5em;\n",
       "  box-sizing: border-box;\n",
       "  text-align: center;\n",
       "  align-items: start;\n",
       "  justify-content: space-between;\n",
       "  gap: 0.5em;\n",
       "}\n",
       "\n",
       "#sk-container-id-1 label.sk-toggleable__label .caption {\n",
       "  font-size: 0.6rem;\n",
       "  font-weight: lighter;\n",
       "  color: var(--sklearn-color-text-muted);\n",
       "}\n",
       "\n",
       "#sk-container-id-1 label.sk-toggleable__label-arrow:before {\n",
       "  /* Arrow on the left of the label */\n",
       "  content: \"▸\";\n",
       "  float: left;\n",
       "  margin-right: 0.25em;\n",
       "  color: var(--sklearn-color-icon);\n",
       "}\n",
       "\n",
       "#sk-container-id-1 label.sk-toggleable__label-arrow:hover:before {\n",
       "  color: var(--sklearn-color-text);\n",
       "}\n",
       "\n",
       "/* Toggleable content - dropdown */\n",
       "\n",
       "#sk-container-id-1 div.sk-toggleable__content {\n",
       "  display: none;\n",
       "  text-align: left;\n",
       "  /* unfitted */\n",
       "  background-color: var(--sklearn-color-unfitted-level-0);\n",
       "}\n",
       "\n",
       "#sk-container-id-1 div.sk-toggleable__content.fitted {\n",
       "  /* fitted */\n",
       "  background-color: var(--sklearn-color-fitted-level-0);\n",
       "}\n",
       "\n",
       "#sk-container-id-1 div.sk-toggleable__content pre {\n",
       "  margin: 0.2em;\n",
       "  border-radius: 0.25em;\n",
       "  color: var(--sklearn-color-text);\n",
       "  /* unfitted */\n",
       "  background-color: var(--sklearn-color-unfitted-level-0);\n",
       "}\n",
       "\n",
       "#sk-container-id-1 div.sk-toggleable__content.fitted pre {\n",
       "  /* unfitted */\n",
       "  background-color: var(--sklearn-color-fitted-level-0);\n",
       "}\n",
       "\n",
       "#sk-container-id-1 input.sk-toggleable__control:checked~div.sk-toggleable__content {\n",
       "  /* Expand drop-down */\n",
       "  display: block;\n",
       "  width: 100%;\n",
       "  overflow: visible;\n",
       "}\n",
       "\n",
       "#sk-container-id-1 input.sk-toggleable__control:checked~label.sk-toggleable__label-arrow:before {\n",
       "  content: \"▾\";\n",
       "}\n",
       "\n",
       "/* Pipeline/ColumnTransformer-specific style */\n",
       "\n",
       "#sk-container-id-1 div.sk-label input.sk-toggleable__control:checked~label.sk-toggleable__label {\n",
       "  color: var(--sklearn-color-text);\n",
       "  background-color: var(--sklearn-color-unfitted-level-2);\n",
       "}\n",
       "\n",
       "#sk-container-id-1 div.sk-label.fitted input.sk-toggleable__control:checked~label.sk-toggleable__label {\n",
       "  background-color: var(--sklearn-color-fitted-level-2);\n",
       "}\n",
       "\n",
       "/* Estimator-specific style */\n",
       "\n",
       "/* Colorize estimator box */\n",
       "#sk-container-id-1 div.sk-estimator input.sk-toggleable__control:checked~label.sk-toggleable__label {\n",
       "  /* unfitted */\n",
       "  background-color: var(--sklearn-color-unfitted-level-2);\n",
       "}\n",
       "\n",
       "#sk-container-id-1 div.sk-estimator.fitted input.sk-toggleable__control:checked~label.sk-toggleable__label {\n",
       "  /* fitted */\n",
       "  background-color: var(--sklearn-color-fitted-level-2);\n",
       "}\n",
       "\n",
       "#sk-container-id-1 div.sk-label label.sk-toggleable__label,\n",
       "#sk-container-id-1 div.sk-label label {\n",
       "  /* The background is the default theme color */\n",
       "  color: var(--sklearn-color-text-on-default-background);\n",
       "}\n",
       "\n",
       "/* On hover, darken the color of the background */\n",
       "#sk-container-id-1 div.sk-label:hover label.sk-toggleable__label {\n",
       "  color: var(--sklearn-color-text);\n",
       "  background-color: var(--sklearn-color-unfitted-level-2);\n",
       "}\n",
       "\n",
       "/* Label box, darken color on hover, fitted */\n",
       "#sk-container-id-1 div.sk-label.fitted:hover label.sk-toggleable__label.fitted {\n",
       "  color: var(--sklearn-color-text);\n",
       "  background-color: var(--sklearn-color-fitted-level-2);\n",
       "}\n",
       "\n",
       "/* Estimator label */\n",
       "\n",
       "#sk-container-id-1 div.sk-label label {\n",
       "  font-family: monospace;\n",
       "  font-weight: bold;\n",
       "  display: inline-block;\n",
       "  line-height: 1.2em;\n",
       "}\n",
       "\n",
       "#sk-container-id-1 div.sk-label-container {\n",
       "  text-align: center;\n",
       "}\n",
       "\n",
       "/* Estimator-specific */\n",
       "#sk-container-id-1 div.sk-estimator {\n",
       "  font-family: monospace;\n",
       "  border: 1px dotted var(--sklearn-color-border-box);\n",
       "  border-radius: 0.25em;\n",
       "  box-sizing: border-box;\n",
       "  margin-bottom: 0.5em;\n",
       "  /* unfitted */\n",
       "  background-color: var(--sklearn-color-unfitted-level-0);\n",
       "}\n",
       "\n",
       "#sk-container-id-1 div.sk-estimator.fitted {\n",
       "  /* fitted */\n",
       "  background-color: var(--sklearn-color-fitted-level-0);\n",
       "}\n",
       "\n",
       "/* on hover */\n",
       "#sk-container-id-1 div.sk-estimator:hover {\n",
       "  /* unfitted */\n",
       "  background-color: var(--sklearn-color-unfitted-level-2);\n",
       "}\n",
       "\n",
       "#sk-container-id-1 div.sk-estimator.fitted:hover {\n",
       "  /* fitted */\n",
       "  background-color: var(--sklearn-color-fitted-level-2);\n",
       "}\n",
       "\n",
       "/* Specification for estimator info (e.g. \"i\" and \"?\") */\n",
       "\n",
       "/* Common style for \"i\" and \"?\" */\n",
       "\n",
       ".sk-estimator-doc-link,\n",
       "a:link.sk-estimator-doc-link,\n",
       "a:visited.sk-estimator-doc-link {\n",
       "  float: right;\n",
       "  font-size: smaller;\n",
       "  line-height: 1em;\n",
       "  font-family: monospace;\n",
       "  background-color: var(--sklearn-color-background);\n",
       "  border-radius: 1em;\n",
       "  height: 1em;\n",
       "  width: 1em;\n",
       "  text-decoration: none !important;\n",
       "  margin-left: 0.5em;\n",
       "  text-align: center;\n",
       "  /* unfitted */\n",
       "  border: var(--sklearn-color-unfitted-level-1) 1pt solid;\n",
       "  color: var(--sklearn-color-unfitted-level-1);\n",
       "}\n",
       "\n",
       ".sk-estimator-doc-link.fitted,\n",
       "a:link.sk-estimator-doc-link.fitted,\n",
       "a:visited.sk-estimator-doc-link.fitted {\n",
       "  /* fitted */\n",
       "  border: var(--sklearn-color-fitted-level-1) 1pt solid;\n",
       "  color: var(--sklearn-color-fitted-level-1);\n",
       "}\n",
       "\n",
       "/* On hover */\n",
       "div.sk-estimator:hover .sk-estimator-doc-link:hover,\n",
       ".sk-estimator-doc-link:hover,\n",
       "div.sk-label-container:hover .sk-estimator-doc-link:hover,\n",
       ".sk-estimator-doc-link:hover {\n",
       "  /* unfitted */\n",
       "  background-color: var(--sklearn-color-unfitted-level-3);\n",
       "  color: var(--sklearn-color-background);\n",
       "  text-decoration: none;\n",
       "}\n",
       "\n",
       "div.sk-estimator.fitted:hover .sk-estimator-doc-link.fitted:hover,\n",
       ".sk-estimator-doc-link.fitted:hover,\n",
       "div.sk-label-container:hover .sk-estimator-doc-link.fitted:hover,\n",
       ".sk-estimator-doc-link.fitted:hover {\n",
       "  /* fitted */\n",
       "  background-color: var(--sklearn-color-fitted-level-3);\n",
       "  color: var(--sklearn-color-background);\n",
       "  text-decoration: none;\n",
       "}\n",
       "\n",
       "/* Span, style for the box shown on hovering the info icon */\n",
       ".sk-estimator-doc-link span {\n",
       "  display: none;\n",
       "  z-index: 9999;\n",
       "  position: relative;\n",
       "  font-weight: normal;\n",
       "  right: .2ex;\n",
       "  padding: .5ex;\n",
       "  margin: .5ex;\n",
       "  width: min-content;\n",
       "  min-width: 20ex;\n",
       "  max-width: 50ex;\n",
       "  color: var(--sklearn-color-text);\n",
       "  box-shadow: 2pt 2pt 4pt #999;\n",
       "  /* unfitted */\n",
       "  background: var(--sklearn-color-unfitted-level-0);\n",
       "  border: .5pt solid var(--sklearn-color-unfitted-level-3);\n",
       "}\n",
       "\n",
       ".sk-estimator-doc-link.fitted span {\n",
       "  /* fitted */\n",
       "  background: var(--sklearn-color-fitted-level-0);\n",
       "  border: var(--sklearn-color-fitted-level-3);\n",
       "}\n",
       "\n",
       ".sk-estimator-doc-link:hover span {\n",
       "  display: block;\n",
       "}\n",
       "\n",
       "/* \"?\"-specific style due to the `<a>` HTML tag */\n",
       "\n",
       "#sk-container-id-1 a.estimator_doc_link {\n",
       "  float: right;\n",
       "  font-size: 1rem;\n",
       "  line-height: 1em;\n",
       "  font-family: monospace;\n",
       "  background-color: var(--sklearn-color-background);\n",
       "  border-radius: 1rem;\n",
       "  height: 1rem;\n",
       "  width: 1rem;\n",
       "  text-decoration: none;\n",
       "  /* unfitted */\n",
       "  color: var(--sklearn-color-unfitted-level-1);\n",
       "  border: var(--sklearn-color-unfitted-level-1) 1pt solid;\n",
       "}\n",
       "\n",
       "#sk-container-id-1 a.estimator_doc_link.fitted {\n",
       "  /* fitted */\n",
       "  border: var(--sklearn-color-fitted-level-1) 1pt solid;\n",
       "  color: var(--sklearn-color-fitted-level-1);\n",
       "}\n",
       "\n",
       "/* On hover */\n",
       "#sk-container-id-1 a.estimator_doc_link:hover {\n",
       "  /* unfitted */\n",
       "  background-color: var(--sklearn-color-unfitted-level-3);\n",
       "  color: var(--sklearn-color-background);\n",
       "  text-decoration: none;\n",
       "}\n",
       "\n",
       "#sk-container-id-1 a.estimator_doc_link.fitted:hover {\n",
       "  /* fitted */\n",
       "  background-color: var(--sklearn-color-fitted-level-3);\n",
       "}\n",
       "\n",
       ".estimator-table summary {\n",
       "    padding: .5rem;\n",
       "    font-family: monospace;\n",
       "    cursor: pointer;\n",
       "}\n",
       "\n",
       ".estimator-table details[open] {\n",
       "    padding-left: 0.1rem;\n",
       "    padding-right: 0.1rem;\n",
       "    padding-bottom: 0.3rem;\n",
       "}\n",
       "\n",
       ".estimator-table .parameters-table {\n",
       "    margin-left: auto !important;\n",
       "    margin-right: auto !important;\n",
       "}\n",
       "\n",
       ".estimator-table .parameters-table tr:nth-child(odd) {\n",
       "    background-color: #fff;\n",
       "}\n",
       "\n",
       ".estimator-table .parameters-table tr:nth-child(even) {\n",
       "    background-color: #f6f6f6;\n",
       "}\n",
       "\n",
       ".estimator-table .parameters-table tr:hover {\n",
       "    background-color: #e0e0e0;\n",
       "}\n",
       "\n",
       ".estimator-table table td {\n",
       "    border: 1px solid rgba(106, 105, 104, 0.232);\n",
       "}\n",
       "\n",
       ".user-set td {\n",
       "    color:rgb(255, 94, 0);\n",
       "    text-align: left;\n",
       "}\n",
       "\n",
       ".user-set td.value pre {\n",
       "    color:rgb(255, 94, 0) !important;\n",
       "    background-color: transparent !important;\n",
       "}\n",
       "\n",
       ".default td {\n",
       "    color: black;\n",
       "    text-align: left;\n",
       "}\n",
       "\n",
       ".user-set td i,\n",
       ".default td i {\n",
       "    color: black;\n",
       "}\n",
       "\n",
       ".copy-paste-icon {\n",
       "    background-image: url(data:image/svg+xml;base64,PHN2ZyB4bWxucz0iaHR0cDovL3d3dy53My5vcmcvMjAwMC9zdmciIHZpZXdCb3g9IjAgMCA0NDggNTEyIj48IS0tIUZvbnQgQXdlc29tZSBGcmVlIDYuNy4yIGJ5IEBmb250YXdlc29tZSAtIGh0dHBzOi8vZm9udGF3ZXNvbWUuY29tIExpY2Vuc2UgLSBodHRwczovL2ZvbnRhd2Vzb21lLmNvbS9saWNlbnNlL2ZyZWUgQ29weXJpZ2h0IDIwMjUgRm9udGljb25zLCBJbmMuLS0+PHBhdGggZD0iTTIwOCAwTDMzMi4xIDBjMTIuNyAwIDI0LjkgNS4xIDMzLjkgMTQuMWw2Ny45IDY3LjljOSA5IDE0LjEgMjEuMiAxNC4xIDMzLjlMNDQ4IDMzNmMwIDI2LjUtMjEuNSA0OC00OCA0OGwtMTkyIDBjLTI2LjUgMC00OC0yMS41LTQ4LTQ4bDAtMjg4YzAtMjYuNSAyMS41LTQ4IDQ4LTQ4ek00OCAxMjhsODAgMCAwIDY0LTY0IDAgMCAyNTYgMTkyIDAgMC0zMiA2NCAwIDAgNDhjMCAyNi41LTIxLjUgNDgtNDggNDhMNDggNTEyYy0yNi41IDAtNDgtMjEuNS00OC00OEwwIDE3NmMwLTI2LjUgMjEuNS00OCA0OC00OHoiLz48L3N2Zz4=);\n",
       "    background-repeat: no-repeat;\n",
       "    background-size: 14px 14px;\n",
       "    background-position: 0;\n",
       "    display: inline-block;\n",
       "    width: 14px;\n",
       "    height: 14px;\n",
       "    cursor: pointer;\n",
       "}\n",
       "</style><body><div id=\"sk-container-id-1\" class=\"sk-top-container\"><div class=\"sk-text-repr-fallback\"><pre>SGDClassifier(random_state=42)</pre><b>In a Jupyter environment, please rerun this cell to show the HTML representation or trust the notebook. <br />On GitHub, the HTML representation is unable to render, please try loading this page with nbviewer.org.</b></div><div class=\"sk-container\" hidden><div class=\"sk-item\"><div class=\"sk-estimator fitted sk-toggleable\"><input class=\"sk-toggleable__control sk-hidden--visually\" id=\"sk-estimator-id-1\" type=\"checkbox\" checked><label for=\"sk-estimator-id-1\" class=\"sk-toggleable__label fitted sk-toggleable__label-arrow\"><div><div>SGDClassifier</div></div><div><a class=\"sk-estimator-doc-link fitted\" rel=\"noreferrer\" target=\"_blank\" href=\"https://scikit-learn.org/1.7/modules/generated/sklearn.linear_model.SGDClassifier.html\">?<span>Documentation for SGDClassifier</span></a><span class=\"sk-estimator-doc-link fitted\">i<span>Fitted</span></span></div></label><div class=\"sk-toggleable__content fitted\" data-param-prefix=\"\">\n",
       "        <div class=\"estimator-table\">\n",
       "            <details>\n",
       "                <summary>Parameters</summary>\n",
       "                <table class=\"parameters-table\">\n",
       "                  <tbody>\n",
       "                    \n",
       "        <tr class=\"default\">\n",
       "            <td><i class=\"copy-paste-icon\"\n",
       "                 onclick=\"copyToClipboard('loss',\n",
       "                          this.parentElement.nextElementSibling)\"\n",
       "            ></i></td>\n",
       "            <td class=\"param\">loss&nbsp;</td>\n",
       "            <td class=\"value\">&#x27;hinge&#x27;</td>\n",
       "        </tr>\n",
       "    \n",
       "\n",
       "        <tr class=\"default\">\n",
       "            <td><i class=\"copy-paste-icon\"\n",
       "                 onclick=\"copyToClipboard('penalty',\n",
       "                          this.parentElement.nextElementSibling)\"\n",
       "            ></i></td>\n",
       "            <td class=\"param\">penalty&nbsp;</td>\n",
       "            <td class=\"value\">&#x27;l2&#x27;</td>\n",
       "        </tr>\n",
       "    \n",
       "\n",
       "        <tr class=\"default\">\n",
       "            <td><i class=\"copy-paste-icon\"\n",
       "                 onclick=\"copyToClipboard('alpha',\n",
       "                          this.parentElement.nextElementSibling)\"\n",
       "            ></i></td>\n",
       "            <td class=\"param\">alpha&nbsp;</td>\n",
       "            <td class=\"value\">0.0001</td>\n",
       "        </tr>\n",
       "    \n",
       "\n",
       "        <tr class=\"default\">\n",
       "            <td><i class=\"copy-paste-icon\"\n",
       "                 onclick=\"copyToClipboard('l1_ratio',\n",
       "                          this.parentElement.nextElementSibling)\"\n",
       "            ></i></td>\n",
       "            <td class=\"param\">l1_ratio&nbsp;</td>\n",
       "            <td class=\"value\">0.15</td>\n",
       "        </tr>\n",
       "    \n",
       "\n",
       "        <tr class=\"default\">\n",
       "            <td><i class=\"copy-paste-icon\"\n",
       "                 onclick=\"copyToClipboard('fit_intercept',\n",
       "                          this.parentElement.nextElementSibling)\"\n",
       "            ></i></td>\n",
       "            <td class=\"param\">fit_intercept&nbsp;</td>\n",
       "            <td class=\"value\">True</td>\n",
       "        </tr>\n",
       "    \n",
       "\n",
       "        <tr class=\"default\">\n",
       "            <td><i class=\"copy-paste-icon\"\n",
       "                 onclick=\"copyToClipboard('max_iter',\n",
       "                          this.parentElement.nextElementSibling)\"\n",
       "            ></i></td>\n",
       "            <td class=\"param\">max_iter&nbsp;</td>\n",
       "            <td class=\"value\">1000</td>\n",
       "        </tr>\n",
       "    \n",
       "\n",
       "        <tr class=\"default\">\n",
       "            <td><i class=\"copy-paste-icon\"\n",
       "                 onclick=\"copyToClipboard('tol',\n",
       "                          this.parentElement.nextElementSibling)\"\n",
       "            ></i></td>\n",
       "            <td class=\"param\">tol&nbsp;</td>\n",
       "            <td class=\"value\">0.001</td>\n",
       "        </tr>\n",
       "    \n",
       "\n",
       "        <tr class=\"default\">\n",
       "            <td><i class=\"copy-paste-icon\"\n",
       "                 onclick=\"copyToClipboard('shuffle',\n",
       "                          this.parentElement.nextElementSibling)\"\n",
       "            ></i></td>\n",
       "            <td class=\"param\">shuffle&nbsp;</td>\n",
       "            <td class=\"value\">True</td>\n",
       "        </tr>\n",
       "    \n",
       "\n",
       "        <tr class=\"default\">\n",
       "            <td><i class=\"copy-paste-icon\"\n",
       "                 onclick=\"copyToClipboard('verbose',\n",
       "                          this.parentElement.nextElementSibling)\"\n",
       "            ></i></td>\n",
       "            <td class=\"param\">verbose&nbsp;</td>\n",
       "            <td class=\"value\">0</td>\n",
       "        </tr>\n",
       "    \n",
       "\n",
       "        <tr class=\"default\">\n",
       "            <td><i class=\"copy-paste-icon\"\n",
       "                 onclick=\"copyToClipboard('epsilon',\n",
       "                          this.parentElement.nextElementSibling)\"\n",
       "            ></i></td>\n",
       "            <td class=\"param\">epsilon&nbsp;</td>\n",
       "            <td class=\"value\">0.1</td>\n",
       "        </tr>\n",
       "    \n",
       "\n",
       "        <tr class=\"default\">\n",
       "            <td><i class=\"copy-paste-icon\"\n",
       "                 onclick=\"copyToClipboard('n_jobs',\n",
       "                          this.parentElement.nextElementSibling)\"\n",
       "            ></i></td>\n",
       "            <td class=\"param\">n_jobs&nbsp;</td>\n",
       "            <td class=\"value\">None</td>\n",
       "        </tr>\n",
       "    \n",
       "\n",
       "        <tr class=\"user-set\">\n",
       "            <td><i class=\"copy-paste-icon\"\n",
       "                 onclick=\"copyToClipboard('random_state',\n",
       "                          this.parentElement.nextElementSibling)\"\n",
       "            ></i></td>\n",
       "            <td class=\"param\">random_state&nbsp;</td>\n",
       "            <td class=\"value\">42</td>\n",
       "        </tr>\n",
       "    \n",
       "\n",
       "        <tr class=\"default\">\n",
       "            <td><i class=\"copy-paste-icon\"\n",
       "                 onclick=\"copyToClipboard('learning_rate',\n",
       "                          this.parentElement.nextElementSibling)\"\n",
       "            ></i></td>\n",
       "            <td class=\"param\">learning_rate&nbsp;</td>\n",
       "            <td class=\"value\">&#x27;optimal&#x27;</td>\n",
       "        </tr>\n",
       "    \n",
       "\n",
       "        <tr class=\"default\">\n",
       "            <td><i class=\"copy-paste-icon\"\n",
       "                 onclick=\"copyToClipboard('eta0',\n",
       "                          this.parentElement.nextElementSibling)\"\n",
       "            ></i></td>\n",
       "            <td class=\"param\">eta0&nbsp;</td>\n",
       "            <td class=\"value\">0.0</td>\n",
       "        </tr>\n",
       "    \n",
       "\n",
       "        <tr class=\"default\">\n",
       "            <td><i class=\"copy-paste-icon\"\n",
       "                 onclick=\"copyToClipboard('power_t',\n",
       "                          this.parentElement.nextElementSibling)\"\n",
       "            ></i></td>\n",
       "            <td class=\"param\">power_t&nbsp;</td>\n",
       "            <td class=\"value\">0.5</td>\n",
       "        </tr>\n",
       "    \n",
       "\n",
       "        <tr class=\"default\">\n",
       "            <td><i class=\"copy-paste-icon\"\n",
       "                 onclick=\"copyToClipboard('early_stopping',\n",
       "                          this.parentElement.nextElementSibling)\"\n",
       "            ></i></td>\n",
       "            <td class=\"param\">early_stopping&nbsp;</td>\n",
       "            <td class=\"value\">False</td>\n",
       "        </tr>\n",
       "    \n",
       "\n",
       "        <tr class=\"default\">\n",
       "            <td><i class=\"copy-paste-icon\"\n",
       "                 onclick=\"copyToClipboard('validation_fraction',\n",
       "                          this.parentElement.nextElementSibling)\"\n",
       "            ></i></td>\n",
       "            <td class=\"param\">validation_fraction&nbsp;</td>\n",
       "            <td class=\"value\">0.1</td>\n",
       "        </tr>\n",
       "    \n",
       "\n",
       "        <tr class=\"default\">\n",
       "            <td><i class=\"copy-paste-icon\"\n",
       "                 onclick=\"copyToClipboard('n_iter_no_change',\n",
       "                          this.parentElement.nextElementSibling)\"\n",
       "            ></i></td>\n",
       "            <td class=\"param\">n_iter_no_change&nbsp;</td>\n",
       "            <td class=\"value\">5</td>\n",
       "        </tr>\n",
       "    \n",
       "\n",
       "        <tr class=\"default\">\n",
       "            <td><i class=\"copy-paste-icon\"\n",
       "                 onclick=\"copyToClipboard('class_weight',\n",
       "                          this.parentElement.nextElementSibling)\"\n",
       "            ></i></td>\n",
       "            <td class=\"param\">class_weight&nbsp;</td>\n",
       "            <td class=\"value\">None</td>\n",
       "        </tr>\n",
       "    \n",
       "\n",
       "        <tr class=\"default\">\n",
       "            <td><i class=\"copy-paste-icon\"\n",
       "                 onclick=\"copyToClipboard('warm_start',\n",
       "                          this.parentElement.nextElementSibling)\"\n",
       "            ></i></td>\n",
       "            <td class=\"param\">warm_start&nbsp;</td>\n",
       "            <td class=\"value\">False</td>\n",
       "        </tr>\n",
       "    \n",
       "\n",
       "        <tr class=\"default\">\n",
       "            <td><i class=\"copy-paste-icon\"\n",
       "                 onclick=\"copyToClipboard('average',\n",
       "                          this.parentElement.nextElementSibling)\"\n",
       "            ></i></td>\n",
       "            <td class=\"param\">average&nbsp;</td>\n",
       "            <td class=\"value\">False</td>\n",
       "        </tr>\n",
       "    \n",
       "                  </tbody>\n",
       "                </table>\n",
       "            </details>\n",
       "        </div>\n",
       "    </div></div></div></div></div><script>function copyToClipboard(text, element) {\n",
       "    // Get the parameter prefix from the closest toggleable content\n",
       "    const toggleableContent = element.closest('.sk-toggleable__content');\n",
       "    const paramPrefix = toggleableContent ? toggleableContent.dataset.paramPrefix : '';\n",
       "    const fullParamName = paramPrefix ? `${paramPrefix}${text}` : text;\n",
       "\n",
       "    const originalStyle = element.style;\n",
       "    const computedStyle = window.getComputedStyle(element);\n",
       "    const originalWidth = computedStyle.width;\n",
       "    const originalHTML = element.innerHTML.replace('Copied!', '');\n",
       "\n",
       "    navigator.clipboard.writeText(fullParamName)\n",
       "        .then(() => {\n",
       "            element.style.width = originalWidth;\n",
       "            element.style.color = 'green';\n",
       "            element.innerHTML = \"Copied!\";\n",
       "\n",
       "            setTimeout(() => {\n",
       "                element.innerHTML = originalHTML;\n",
       "                element.style = originalStyle;\n",
       "            }, 2000);\n",
       "        })\n",
       "        .catch(err => {\n",
       "            console.error('Failed to copy:', err);\n",
       "            element.style.color = 'red';\n",
       "            element.innerHTML = \"Failed!\";\n",
       "            setTimeout(() => {\n",
       "                element.innerHTML = originalHTML;\n",
       "                element.style = originalStyle;\n",
       "            }, 2000);\n",
       "        });\n",
       "    return false;\n",
       "}\n",
       "\n",
       "document.querySelectorAll('.fa-regular.fa-copy').forEach(function(element) {\n",
       "    const toggleableContent = element.closest('.sk-toggleable__content');\n",
       "    const paramPrefix = toggleableContent ? toggleableContent.dataset.paramPrefix : '';\n",
       "    const paramName = element.parentElement.nextElementSibling.textContent.trim();\n",
       "    const fullParamName = paramPrefix ? `${paramPrefix}${paramName}` : paramName;\n",
       "\n",
       "    element.setAttribute('title', fullParamName);\n",
       "});\n",
       "</script></body>"
      ],
      "text/plain": [
       "SGDClassifier(random_state=42)"
      ]
     },
     "execution_count": 67,
     "metadata": {},
     "output_type": "execute_result"
    }
   ],
   "source": [
    "from sklearn.linear_model import SGDClassifier\n",
    "\n",
    "sgd_clf = SGDClassifier(max_iter=1000, tol=1e-3, random_state=42)\n",
    "sgd_clf.fit(X_train, y_train_5)"
   ]
  },
  {
   "cell_type": "markdown",
   "metadata": {
    "id": "O4DKl7cR2oPH"
   },
   "source": [
    "Ahora puedes utilizarlo para detectar imágenes con número 5:"
   ]
  },
  {
   "cell_type": "code",
   "execution_count": 71,
   "metadata": {
    "colab": {
     "base_uri": "https://localhost:8080/"
    },
    "id": "EmFxPnMLtYfG",
    "outputId": "232025d9-332b-4581-daad-234f4c84dda1"
   },
   "outputs": [
    {
     "data": {
      "text/plain": [
       "array([ True])"
      ]
     },
     "execution_count": 71,
     "metadata": {},
     "output_type": "execute_result"
    }
   ],
   "source": [
    "sgd_clf.predict([some_digit])"
   ]
  },
  {
   "cell_type": "markdown",
   "metadata": {
    "id": "HqPwtQhK2z5K"
   },
   "source": [
    "El clasificador adivina que esta imagen representa un 5 (Verdadero).\n",
    "\n",
    "- Parece que en este caso ha acertado.\n",
    "- Ahora, evaluemos el rendimiento de este modelo."
   ]
  },
  {
   "cell_type": "markdown",
   "metadata": {
    "id": "i0J6G7-ftYfG"
   },
   "source": [
    "## Medidas de rendimiento"
   ]
  },
  {
   "cell_type": "markdown",
   "metadata": {
    "id": "Dvupwa2htYfG"
   },
   "source": [
    "### Medición de la exactitud (accuracy) mediante validación cruzada"
   ]
  },
  {
   "cell_type": "markdown",
   "metadata": {
    "id": "DerOu7Dn58Oi"
   },
   "source": [
    "---\n",
    "Ocasionalmente, necesitaremos más control sobre el proceso de validación cruzada que el que Scikit-Learn proporciona.\n",
    "\n",
    "- En estos casos, podemos implementar la validación cruzada nosotros mismos; en realidad es bastante sencillo.\n",
    "- El siguiente código hace aproximadamente lo mismo que la función `cross_val_score()` de Scikit-Learn, y muestra el mismo resultado:"
   ]
  },
  {
   "cell_type": "code",
   "execution_count": 72,
   "metadata": {
    "colab": {
     "base_uri": "https://localhost:8080/"
    },
    "id": "J48HTKF0tYfG",
    "outputId": "f3cb6792-c080-4892-923e-c4851f40f984"
   },
   "outputs": [
    {
     "name": "stdout",
     "output_type": "stream",
     "text": [
      "0.9669\n",
      "0.91625\n",
      "0.96785\n"
     ]
    }
   ],
   "source": [
    "from sklearn.model_selection import StratifiedKFold\n",
    "from sklearn.base import clone\n",
    "\n",
    "skfolds = StratifiedKFold(n_splits=3, shuffle=True, random_state=42)\n",
    "\n",
    "for train_index, test_index in skfolds.split(X_train, y_train_5):\n",
    "    clone_clf = clone(sgd_clf)\n",
    "    X_train_folds = X_train[train_index]\n",
    "    y_train_folds = y_train_5[train_index]\n",
    "    X_test_fold = X_train[test_index]\n",
    "    y_test_fold = y_train_5[test_index]\n",
    "\n",
    "    clone_clf.fit(X_train_folds, y_train_folds)\n",
    "    y_pred = clone_clf.predict(X_test_fold)\n",
    "    n_correct = sum(y_pred == y_test_fold)\n",
    "    print(n_correct / len(y_pred))"
   ]
  },
  {
   "cell_type": "markdown",
   "metadata": {
    "id": "AcBvmsVL3xf6"
   },
   "source": [
    "La clase `StratifiedKFold` realiza un muestreo estratificado para producir particiones que contengan una proporción representativa de cada clase.\n",
    "\n",
    "- En cada iteración, el código código crea un clon del clasificador, entrena a ese clon en las particiones de entrenamiento, y hace predicciones en la partición de test.\n",
    "\n",
    "- A continuación, cuenta el número de predicciones correctas y la proporción de predicciones correctas.\n",
    "\n",
    "---"
   ]
  },
  {
   "cell_type": "markdown",
   "metadata": {
    "id": "WYz4EZsT4faW"
   },
   "source": [
    "**Utilicemos la función `cross_val_score()`** para evaluar nuestro modelo `SGDClassifier` utilizando la validación cruzada K-fold, con tres particiones.\n",
    "\n",
    "- Recordemos que K-fold cross validation significa dividir el conjunto de entrenamiento en K particiones (en este caso, tres), luego hacer predicciones y evaluarlas en cada partición con un modelo entrenado en las particiones restantes:"
   ]
  },
  {
   "cell_type": "code",
   "execution_count": 73,
   "metadata": {
    "colab": {
     "base_uri": "https://localhost:8080/"
    },
    "id": "5FsVNhTHtYfG",
    "outputId": "7cf6e75a-7825-4da6-e6c2-6bef5ed34e74"
   },
   "outputs": [
    {
     "data": {
      "text/plain": [
       "array([0.95035, 0.96035, 0.9604 ])"
      ]
     },
     "execution_count": 73,
     "metadata": {},
     "output_type": "execute_result"
    }
   ],
   "source": [
    "from sklearn.model_selection import cross_val_score\n",
    "cross_val_score(sgd_clf, X_train, y_train_5, cv=3, scoring=\"accuracy\")"
   ]
  },
  {
   "cell_type": "markdown",
   "metadata": {
    "id": "lmCUQN-K5H-o"
   },
   "source": [
    "¡Vaya! ¿Más del 95% de exactitud (porcentaje de predicciones correctas) en todos los conjuntos de validación cruzada? Parece increíble, ¿verdad?\n",
    "\n",
    "- Bueno, antes de que te emociones demasiado, veamos un clasificador muy tonto que simplemente clasifica cada imagen en la clase \"no-5\":"
   ]
  },
  {
   "cell_type": "code",
   "execution_count": 74,
   "metadata": {
    "id": "hbICea4NtYfH"
   },
   "outputs": [],
   "source": [
    "from sklearn.base import BaseEstimator\n",
    "class Never5Classifier(BaseEstimator):\n",
    "    def fit(self, X, y=None):\n",
    "        pass\n",
    "    def predict(self, X):\n",
    "        return np.zeros((len(X), 1), dtype=bool)"
   ]
  },
  {
   "cell_type": "markdown",
   "metadata": {
    "id": "SsEe9RRk5dcr"
   },
   "source": [
    "¿Puedes adivinar la exactitud de este modelo? Averigüémoslo:"
   ]
  },
  {
   "cell_type": "code",
   "execution_count": 75,
   "metadata": {
    "colab": {
     "base_uri": "https://localhost:8080/"
    },
    "id": "BmP5-oGxtYfH",
    "outputId": "3af91153-8d48-420c-a9ae-572133ae1a1c"
   },
   "outputs": [
    {
     "data": {
      "text/plain": [
       "array([0.91125, 0.90855, 0.90915])"
      ]
     },
     "execution_count": 75,
     "metadata": {},
     "output_type": "execute_result"
    }
   ],
   "source": [
    "never_5_clf = Never5Classifier()\n",
    "cross_val_score(never_5_clf, X_train, y_train_5, cv=3, scoring=\"accuracy\")"
   ]
  },
  {
   "cell_type": "markdown",
   "metadata": {
    "id": "5ryT0PUx5oYs"
   },
   "source": [
    "Así es, ¡tiene más del 90% de exactitud!\n",
    "\n",
    "- Esto se debe simplemente a que sólo alrededor del 10% de las imágenes son 5s, por lo que si siempre adivinas que una imagen no es un 5, acertarás alrededor del 90% de las veces.\n",
    "\n",
    "- Esto demuestra por qué la exactitud no suele ser la medida de rendimiento más adecuada para los clasificadores, especialmente cuando se trata de **conjuntos de datos asimétricos** (es decir, cuando algunas clases son mucho más frecuentes que otras)."
   ]
  },
  {
   "cell_type": "markdown",
   "metadata": {
    "id": "rKdP46svtYfH"
   },
   "source": [
    "### Matriz de confusión\n",
    "\n",
    "Una forma mucho mejor de evaluar el rendimiento de un clasificador es observar la **matriz de confusión**.\n",
    "\n",
    "- La idea general es contar el número de veces que las muestras de la clase A se clasifican como clase B.\n",
    "  - Por ejemplo, para saber el número de veces que el clasificador confunde imágenes de 5s con 3s, se miraría en la 5ª fila y 3ª columna de la matriz de confusión. de confusión.\n",
    "\n",
    "Para calcular la matriz de confusión, primero hay que tener un conjunto de predicciones, para poder compararlas con los objetivos reales.\n",
    "\n",
    "- Podriamos hacer predicciones en el conjunto de test, pero vamos a dejarlo intacto por ahora (recuerda que usaremos el conjunto de test sólo al final del proyecto, cuando tengamos un clasificador listo).\n",
    "\n",
    "- En su lugar, podemos utilizar la función **`cross_val_predict()`**:"
   ]
  },
  {
   "cell_type": "code",
   "execution_count": null,
   "metadata": {
    "id": "rk-ctmPwtYfH"
   },
   "outputs": [],
   "source": [
    "from sklearn.model_selection import cross_val_predict\n",
    "\n",
    "y_train_pred = cross_val_predict(sgd_clf, X_train, y_train_5, cv=3)"
   ]
  },
  {
   "cell_type": "markdown",
   "metadata": {
    "id": "XGXDzP1n-VIH"
   },
   "source": [
    "Al igual que la función `cross_val_score(`), `cross_val_predict()` realiza una validación cruzada de K particiones,\n",
    "\n",
    "- pero en lugar de devolver las puntuaciones de evaluación, devuelve las predicciones realizadas en cada partición de prueba.\n",
    "- Esto significa que se obtiene una predicción limpia para cada muestra del conjunto de entrenamiento (\"limpia\" significa que el modelo hace predicciones sobre datos que no ha visto durante el entrenamiento)."
   ]
  },
  {
   "cell_type": "markdown",
   "metadata": {
    "id": "MWCj43YR-nEh"
   },
   "source": [
    "Ahora estamos listos para obtener la matriz de confusión utilizando la función **`confusion_matrix()`**.\n",
    "\n",
    "- Sólo tenemos que pasarle las clases objetivo (`y_train_5`) y las clases predichas (`y_train_pred`):"
   ]
  },
  {
   "cell_type": "code",
   "execution_count": null,
   "metadata": {
    "colab": {
     "base_uri": "https://localhost:8080/"
    },
    "id": "668pbOQ0tYfI",
    "outputId": "7856f3e6-7a63-4b24-e26c-b09dbc46d1a7"
   },
   "outputs": [
    {
     "data": {
      "text/plain": [
       "array([[53892,   687],\n",
       "       [ 1891,  3530]])"
      ]
     },
     "execution_count": 70,
     "metadata": {},
     "output_type": "execute_result"
    }
   ],
   "source": [
    "from sklearn.metrics import confusion_matrix\n",
    "\n",
    "confusion_matrix(y_train_5, y_train_pred)"
   ]
  },
  {
   "cell_type": "markdown",
   "metadata": {
    "id": "cWhB6XlQ-xvD"
   },
   "source": [
    "Cada fila de una matriz de confusión representa una **clase real**, mientras que cada columna representa una **predicción**.\n",
    "\n",
    "- La primera fila de esta matriz considera las imágenes no-5 (la **clase negativa**): 53.892 de ellas se clasificaron correctamente como no-5 (se denominan **verdaderos negativos**), mientras que las 687 restantes se clasificaron erróneamente como 5 (**falsos positivos**).\n",
    "\n",
    "- En la segunda fila se consideran las imágenes de 5s (la **clase positiva**): 1.325 se clasificaron erróneamente como no 5s (**falsos negativos**), mientras que las 4.096 restantes se clasificaron correctamente como 5s (**verdaderos positivos**)."
   ]
  },
  {
   "cell_type": "markdown",
   "metadata": {
    "id": "mEVHgxZh_nT4"
   },
   "source": [
    "Un **clasificador perfecto** sólo tendría verdaderos positivos y verdaderos negativos,\n",
    "\n",
    "- por lo que su matriz de confusión sólo tendría valores distintos de cero en su diagonal principal (de arriba a la izquierda hasta abajo a la derecha):"
   ]
  },
  {
   "cell_type": "code",
   "execution_count": null,
   "metadata": {
    "colab": {
     "base_uri": "https://localhost:8080/"
    },
    "id": "mcDtcjfetYfI",
    "outputId": "55644599-17b5-4cb0-eabe-901a3951886c"
   },
   "outputs": [
    {
     "data": {
      "text/plain": [
       "array([[54579,     0],\n",
       "       [    0,  5421]])"
      ]
     },
     "execution_count": 71,
     "metadata": {},
     "output_type": "execute_result"
    }
   ],
   "source": [
    "y_train_perfect_predictions = y_train_5  # pretend we reached perfection\n",
    "confusion_matrix(y_train_5, y_train_perfect_predictions)"
   ]
  },
  {
   "cell_type": "markdown",
   "metadata": {
    "id": "FRbQZkndtYfI"
   },
   "source": [
    "### Precisión (Precision) y sensibilidad (Recall)"
   ]
  },
  {
   "cell_type": "markdown",
   "metadata": {
    "id": "ykoh7j89_--E"
   },
   "source": [
    "La matriz de confusión proporciona mucha información, pero a veces se prefiere una métrica más concisa.\n",
    "\n",
    "- Una medida interesante es la exactitud de las predicciones positivas, que se denomina **precisión** del clasificador:\n",
    "\n",
    "> $precisión=\\frac{TP}{TP+FP}$\n",
    "\n",
    "- *TP* es el número de verdaderos positivos, y *FP* es el número de falsos positivos.\n",
    "\n",
    "- Una forma trivial de tener una precisión perfecta es hacer una única predicción positiva y asegurarse de que es correcta (precisión = 1/1 = 100%.\n",
    "\n",
    "  - Esto no sería muy útil, ya que el clasificador ignoraría todas las muestras positivas excepto una.\n",
    "\n",
    "Por tanto, la precisión se suele utilizar junto con otra métrica llamada **exhaustividad**, también llamada **sensibilidad** o **tasa de verdaderos positivos (TPR)**:\n",
    "\n",
    "- es la proporción de muestras positivas detectadas correctamente por el clasificador.\n",
    "\n",
    "> $recall=\\frac{TP}{TP+FN}$.\n",
    "\n",
    "- FN es, por supuesto, el número de falsos negativos.\n",
    "\n",
    "Scikit-Learn proporciona varias funciones para calcular las métricas del clasificador, incluidas la precisión y la sensibilidad:"
   ]
  },
  {
   "cell_type": "code",
   "execution_count": null,
   "metadata": {
    "colab": {
     "base_uri": "https://localhost:8080/"
    },
    "id": "LRwj3GiStYfI",
    "outputId": "3c594a64-f55c-4b36-d9f2-7799e971fd85"
   },
   "outputs": [
    {
     "data": {
      "text/plain": [
       "0.8370879772350012"
      ]
     },
     "execution_count": 72,
     "metadata": {},
     "output_type": "execute_result"
    }
   ],
   "source": [
    "from sklearn.metrics import precision_score, recall_score\n",
    "\n",
    "precision_score(y_train_5, y_train_pred)"
   ]
  },
  {
   "cell_type": "code",
   "execution_count": null,
   "metadata": {
    "colab": {
     "base_uri": "https://localhost:8080/"
    },
    "id": "UfH1omYQtYfI",
    "outputId": "4d10ac52-7955-4771-8957-5db63d4fdfea"
   },
   "outputs": [
    {
     "data": {
      "text/plain": [
       "0.8370879772350012"
      ]
     },
     "execution_count": 73,
     "metadata": {},
     "output_type": "execute_result"
    }
   ],
   "source": [
    "cm = confusion_matrix(y_train_5, y_train_pred)\n",
    "cm[1, 1] / (cm[0, 1] + cm[1, 1])"
   ]
  },
  {
   "cell_type": "code",
   "execution_count": null,
   "metadata": {
    "colab": {
     "base_uri": "https://localhost:8080/"
    },
    "id": "KhClLvSLtYfJ",
    "outputId": "c700c991-27e4-4b3e-8733-769ad4e498df"
   },
   "outputs": [
    {
     "data": {
      "text/plain": [
       "0.6511713705958311"
      ]
     },
     "execution_count": 74,
     "metadata": {},
     "output_type": "execute_result"
    }
   ],
   "source": [
    "recall_score(y_train_5, y_train_pred)"
   ]
  },
  {
   "cell_type": "code",
   "execution_count": null,
   "metadata": {
    "colab": {
     "base_uri": "https://localhost:8080/"
    },
    "id": "ATVgRxZQtYfJ",
    "outputId": "d4c69bca-00c1-4fdc-ffd3-928c4b9607cb"
   },
   "outputs": [
    {
     "data": {
      "text/plain": [
       "0.6511713705958311"
      ]
     },
     "execution_count": 75,
     "metadata": {},
     "output_type": "execute_result"
    }
   ],
   "source": [
    "cm[1, 1] / (cm[1, 0] + cm[1, 1])"
   ]
  },
  {
   "cell_type": "markdown",
   "metadata": {
    "id": "sNNPGrlZEAdo"
   },
   "source": [
    "A menudo es conveniente combinar la precisión y la recuperación en una única métrica llamada **$F_1$ score**,\n",
    "\n",
    "- en particular si necesitas una forma sencilla de comparar dos clasificadores. La puntuación $F_1$ es la **media armónica de la precisión y la sensibilidad**.\n",
    "\n",
    "- Mientras que la media normal trata todos los valores por igual, la media armónica da mucha más importancia a los valores bajos.\n",
    "\n",
    "- Como resultado, el clasificador sólo obtendrá una puntuación $F_1$ alta si tanto la recuperación como la precisión son altas.\n",
    "\n",
    "> $F_1 = 2 \\times \\frac{precisión \\times recall}{precisión + recall}$.\n",
    "\n",
    "Para calcular la puntuación $F_1$, basta con llamar a la función **`f1_score()`**:"
   ]
  },
  {
   "cell_type": "code",
   "execution_count": null,
   "metadata": {
    "colab": {
     "base_uri": "https://localhost:8080/"
    },
    "id": "98HmtsGktYfJ",
    "outputId": "b8f3375b-2607-4c02-fcd6-b378de8fc266"
   },
   "outputs": [
    {
     "data": {
      "text/plain": [
       "0.7325171197343847"
      ]
     },
     "execution_count": 76,
     "metadata": {},
     "output_type": "execute_result"
    }
   ],
   "source": [
    "from sklearn.metrics import f1_score\n",
    "\n",
    "f1_score(y_train_5, y_train_pred)"
   ]
  },
  {
   "cell_type": "code",
   "execution_count": null,
   "metadata": {
    "colab": {
     "base_uri": "https://localhost:8080/"
    },
    "id": "iv0xqihutYfK",
    "outputId": "c7598c22-4473-4a5e-b6e3-98411ada30f6"
   },
   "outputs": [
    {
     "data": {
      "text/plain": [
       "0.7325171197343847"
      ]
     },
     "execution_count": 77,
     "metadata": {},
     "output_type": "execute_result"
    }
   ],
   "source": [
    "cm[1, 1] / (cm[1, 1] + (cm[1, 0] + cm[0, 1]) / 2)"
   ]
  },
  {
   "cell_type": "markdown",
   "metadata": {
    "id": "Jlivqsh0FBGd"
   },
   "source": [
    "La puntuación $F_1$ favorece a los clasificadores que tienen una precisión y una sensibilidad similares.\n",
    "\n",
    "- Esto no es siempre lo que se desea:\n",
    "\n",
    "  - en algunos contextos le importa sobre todo la precisión, y en otros contextos lo que realmente importa es la sensibilidad.\n",
    "\n",
    "Por desgracia, no se pueden tener ambas cosas:\n",
    "\n",
    "- aumentar la precisión reduce la sensibilidad, y viceversa.\n",
    "- Es lo que se conoce como **compromiso precisión/sensibilidad** (Precision/Recall trade-off)."
   ]
  },
  {
   "cell_type": "markdown",
   "metadata": {
    "id": "qs_XBbuEtYfK"
   },
   "source": [
    "### Compromiso Precision/Recall"
   ]
  },
  {
   "cell_type": "markdown",
   "metadata": {
    "id": "AAixC6C6LOR0"
   },
   "source": [
    "Para entender este equilibrio, veamos cómo el `SGDClassifier` toma sus decisiones de clasificación.\n",
    "\n",
    "- Para cada muestra, calcula una puntuación basada en una función de decisión, y si esa puntuación es mayor que un umbral, asigna la muestra a la clase positiva, o bien la asigna a la clase negativa.\n",
    "\n",
    "- La figura muestra unos dígitos situados desde la puntuación más baja, a la izquierda, hasta la más alta, a la derecha:\n",
    "\n",
    "![tradeoff.jpg](data:image/jpeg;base64,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)\n",
    "\n",
    "Supongamos que el **umbral de decisión** se sitúa en la flecha central (entre los dos 5): encontrará 4 verdaderos positivos (5 reales) a la derecha de ese umbral, y un falso positivo (en realidad un 6).\n",
    "\n",
    "- Por tanto, con ese umbral, la precisión es del 80% (4 de 5).\n",
    "- Pero de los 6 cincos reales, el clasificador sólo detecta 4, por lo que la sensibilidad es del 67% (4 de 6).\n",
    "- Ahora bien, si se eleva el umbral (moviéndolo hacia la flecha de la derecha), el falso positivo (el 6) se convierte en un verdadero negativo,\n",
    "\n",
    "  - aumentando así la precisión (hasta el 100% en este caso),\n",
    "  - pero un verdadero positivo se convierte en un falso negativo, disminuyendo la sensibilidad hasta el 50%.\n",
    "\n",
    "- Por el contrario, si se reduce el umbral, aumenta la sensibilidad y disminuye la precisión.\n",
    "\n",
    "Scikit-Learn no permite establecer el umbral directamente, pero sí da acceso a las puntuaciones de decisión que utiliza para hacer predicciones.\n",
    "\n",
    "- En lugar de llamar al método `predict()` del clasificador, podemos llamar al método **`decision_function()`**, que devuelve una puntuación para cada muestra,\n",
    "- y luego hacer predicciones basadas en esas puntuaciones utilizando cualquier umbral que desee:"
   ]
  },
  {
   "cell_type": "code",
   "execution_count": null,
   "metadata": {
    "colab": {
     "base_uri": "https://localhost:8080/"
    },
    "id": "kTePrNw_tYfK",
    "outputId": "229cd768-2eb1-4542-d26b-e4a024c860a4"
   },
   "outputs": [
    {
     "data": {
      "text/plain": [
       "array([2164.22030239])"
      ]
     },
     "execution_count": 78,
     "metadata": {},
     "output_type": "execute_result"
    }
   ],
   "source": [
    "y_scores = sgd_clf.decision_function([some_digit])\n",
    "y_scores"
   ]
  },
  {
   "cell_type": "code",
   "execution_count": null,
   "metadata": {
    "id": "KMOB4xiftYfK"
   },
   "outputs": [],
   "source": [
    "threshold = 0\n",
    "y_some_digit_pred = (y_scores > threshold)"
   ]
  },
  {
   "cell_type": "code",
   "execution_count": null,
   "metadata": {
    "colab": {
     "base_uri": "https://localhost:8080/"
    },
    "id": "TSHkz7WEtYfK",
    "outputId": "dd0f6ff0-c1f3-40f8-ae56-1711eb305fa1"
   },
   "outputs": [
    {
     "data": {
      "text/plain": [
       "array([ True])"
      ]
     },
     "execution_count": 80,
     "metadata": {},
     "output_type": "execute_result"
    }
   ],
   "source": [
    "y_some_digit_pred"
   ]
  },
  {
   "cell_type": "markdown",
   "metadata": {
    "id": "-H2xBETxQMlv"
   },
   "source": [
    "En este caso, el `SGDClassifier` utiliza un umbral igual a 0,\n",
    "\n",
    "- por lo que el código anterior devuelve el mismo resultado que el método `predict()` (es decir, `True`).\n",
    "\n",
    "Aumentemos el umbral:"
   ]
  },
  {
   "cell_type": "code",
   "execution_count": null,
   "metadata": {
    "colab": {
     "base_uri": "https://localhost:8080/"
    },
    "id": "yvcr5QnUtYfK",
    "outputId": "7b5f91a1-63f7-4171-cd89-1297b530eb8b"
   },
   "outputs": [
    {
     "data": {
      "text/plain": [
       "array([False])"
      ]
     },
     "execution_count": 81,
     "metadata": {},
     "output_type": "execute_result"
    }
   ],
   "source": [
    "threshold = 8000\n",
    "y_some_digit_pred = (y_scores > threshold)\n",
    "y_some_digit_pred"
   ]
  },
  {
   "cell_type": "markdown",
   "metadata": {
    "id": "OyDeLHWFQXij"
   },
   "source": [
    "Esto confirma que el aumento del umbral disminuye la sensibilidad.\n",
    "\n",
    "- La imagen representa en realidad un 5,\n",
    "- y el clasificador lo detecta cuando el umbral es 0,\n",
    "- pero no lo detecta cuando el umbral aumenta a 8.000."
   ]
  },
  {
   "cell_type": "markdown",
   "metadata": {
    "id": "vnEkSYM9Qgwf"
   },
   "source": [
    "¿Cómo decidimos qué umbral utilizar?\n",
    "\n",
    "- Para ello, primero tendrá que obtener las puntuaciones de todas las muestras del conjunto de entrenamiento mediante la función `cross_val_predict()` de nuevo,\n",
    "- pero esta vez especificando que desea que devuelva puntuaciones de decisión en lugar de\n",
    "predicciones:"
   ]
  },
  {
   "cell_type": "code",
   "execution_count": null,
   "metadata": {
    "id": "uIffm-r4tYfK"
   },
   "outputs": [],
   "source": [
    "y_scores = cross_val_predict(sgd_clf, X_train, y_train_5, cv=3,\n",
    "                             method=\"decision_function\")"
   ]
  },
  {
   "cell_type": "markdown",
   "metadata": {
    "id": "WzTuJjjgQnB9"
   },
   "source": [
    "Ahora, con estas puntuaciones, podemos calcular la precisión y la sensibilidad para todos los umbrales posibles utilizando la función **`precision_recall_curve()`**:"
   ]
  },
  {
   "cell_type": "code",
   "execution_count": null,
   "metadata": {
    "id": "h3V2m77RtYfK"
   },
   "outputs": [],
   "source": [
    "from sklearn.metrics import precision_recall_curve\n",
    "\n",
    "precisions, recalls, thresholds = precision_recall_curve(y_train_5, y_scores)"
   ]
  },
  {
   "cell_type": "markdown",
   "metadata": {
    "id": "ZlSZqx1fQviX"
   },
   "source": [
    "Por último, podemos representar gráficamente la precisión y la sensibilidad como funciones del valor umbral utilizando Matplotlib:"
   ]
  },
  {
   "cell_type": "code",
   "execution_count": null,
   "metadata": {
    "colab": {
     "base_uri": "https://localhost:8080/",
     "height": 424
    },
    "id": "faE4Ig77tYfL",
    "outputId": "6db982fa-e2bd-4fc7-9003-3b1aab2bc11c"
   },
   "outputs": [
    {
     "name": "stdout",
     "output_type": "stream",
     "text": [
      "Saving figure precision_recall_vs_threshold_plot\n"
     ]
    },
    {
     "data": {
      "image/png": "[encoded data removed]",
      "text/plain": [
       "<Figure size 800x400 with 1 Axes>"
      ]
     },
     "metadata": {},
     "output_type": "display_data"
    }
   ],
   "source": [
    "def plot_precision_recall_vs_threshold(precisions, recalls, thresholds):\n",
    "    plt.plot(thresholds, precisions[:-1], \"b--\", label=\"Precision\", linewidth=2)\n",
    "    plt.plot(thresholds, recalls[:-1], \"g-\", label=\"Recall\", linewidth=2)\n",
    "    plt.legend(loc=\"center right\", fontsize=16)\n",
    "    plt.xlabel(\"Threshold\", fontsize=16)\n",
    "    plt.grid(True)\n",
    "    plt.axis([-50000, 50000, 0, 1])\n",
    "\n",
    "recall_90_precision = recalls[np.argmax(precisions >= 0.90)]\n",
    "threshold_90_precision = thresholds[np.argmax(precisions >= 0.90)]\n",
    "\n",
    "plt.figure(figsize=(8, 4))\n",
    "plot_precision_recall_vs_threshold(precisions, recalls, thresholds)\n",
    "plt.plot([threshold_90_precision, threshold_90_precision], [0., 0.9], \"r:\")\n",
    "plt.plot([-50000, threshold_90_precision], [0.9, 0.9], \"r:\")\n",
    "plt.plot([-50000, threshold_90_precision], [recall_90_precision, recall_90_precision], \"r:\")\n",
    "plt.plot([threshold_90_precision], [0.9], \"ro\")\n",
    "plt.plot([threshold_90_precision], [recall_90_precision], \"ro\")\n",
    "save_fig(\"precision_recall_vs_threshold_plot\")\n",
    "plt.show()"
   ]
  },
  {
   "cell_type": "code",
   "execution_count": null,
   "metadata": {
    "colab": {
     "base_uri": "https://localhost:8080/"
    },
    "id": "RAZrnG-utYfL",
    "outputId": "20d62617-f48f-482d-f7bd-08ca1154dcdd"
   },
   "outputs": [
    {
     "data": {
      "text/plain": [
       "True"
      ]
     },
     "execution_count": 85,
     "metadata": {},
     "output_type": "execute_result"
    }
   ],
   "source": [
    "(y_train_pred == (y_scores > 0)).all()"
   ]
  },
  {
   "cell_type": "markdown",
   "metadata": {
    "id": "VS8aIUHvWE0P"
   },
   "source": [
    "Otra forma de seleccionar un buen equilibrio entre precisión y recuperación es **trazar la precisión directamente frente a la recuperación** (se resalta el mismo umbral que antes)."
   ]
  },
  {
   "cell_type": "code",
   "execution_count": null,
   "metadata": {
    "colab": {
     "base_uri": "https://localhost:8080/",
     "height": 624
    },
    "id": "jh6i2i1BtYfL",
    "outputId": "1c4d6cf5-c63e-4018-93c0-d3e0c7db78ad"
   },
   "outputs": [
    {
     "name": "stdout",
     "output_type": "stream",
     "text": [
      "Saving figure precision_vs_recall_plot\n"
     ]
    },
    {
     "data": {
      "image/png": "[encoded data removed]",
      "text/plain": [
       "<Figure size 800x600 with 1 Axes>"
      ]
     },
     "metadata": {},
     "output_type": "display_data"
    }
   ],
   "source": [
    "def plot_precision_vs_recall(precisions, recalls):\n",
    "    plt.plot(recalls, precisions, \"b-\", linewidth=2)\n",
    "    plt.xlabel(\"Recall\", fontsize=16)\n",
    "    plt.ylabel(\"Precision\", fontsize=16)\n",
    "    plt.axis([0, 1, 0, 1])\n",
    "    plt.grid(True)\n",
    "\n",
    "plt.figure(figsize=(8, 6))\n",
    "plot_precision_vs_recall(precisions, recalls)\n",
    "plt.plot([recall_90_precision, recall_90_precision], [0., 0.9], \"r:\")\n",
    "plt.plot([0.0, recall_90_precision], [0.9, 0.9], \"r:\")\n",
    "plt.plot([recall_90_precision], [0.9], \"ro\")\n",
    "save_fig(\"precision_vs_recall_plot\")\n",
    "plt.show()"
   ]
  },
  {
   "cell_type": "markdown",
   "metadata": {
    "id": "hTM_k1ujXDNa"
   },
   "source": [
    "Podemos ver que la precisión empieza a caer bruscamente en torno al 80% de recall.\n",
    "\n",
    "- Es probable que desee seleccionar un punto de equilibrio entre precisión y sensibilidad justo antes de esa caída, por ejemplo, en torno al 60% de sensibilidad.\n",
    "- Pero, por supuesto, la mejor elección depende del proyecto.\n",
    "- Supongamos que decide alcanzar una precisión del 90%.\n",
    "- Busquemos en el primer gráfico y veremos que hay que utilizar un umbral de 8.000 aproximadamente.\n",
    "  - Para ser más preciso, hay que buscar el umbral más bajo que dé al menos un 90% de precisión (`np.argmax()` nos dará el primer índice del valor máximo, que en este caso significa el primer valor `True`):"
   ]
  },
  {
   "cell_type": "code",
   "execution_count": null,
   "metadata": {
    "id": "brmSAvyTtYfL"
   },
   "outputs": [],
   "source": [
    "threshold_90_precision = thresholds[np.argmax(precisions >= 0.90)]"
   ]
  },
  {
   "cell_type": "code",
   "execution_count": null,
   "metadata": {
    "colab": {
     "base_uri": "https://localhost:8080/"
    },
    "id": "lOs1wkCStYfL",
    "outputId": "9e1a8015-9c07-4c12-f3e4-b3c4bf1f08cb"
   },
   "outputs": [
    {
     "data": {
      "text/plain": [
       "3370.0194991439557"
      ]
     },
     "execution_count": 88,
     "metadata": {},
     "output_type": "execute_result"
    }
   ],
   "source": [
    "threshold_90_precision"
   ]
  },
  {
   "cell_type": "markdown",
   "metadata": {
    "id": "UvVzWlB-XVpp"
   },
   "source": [
    "To make predictions (on the training set for now), instead of calling the classifier’s `predict()` method, you can just run this code:"
   ]
  },
  {
   "cell_type": "code",
   "execution_count": null,
   "metadata": {
    "id": "LsS4kuR0tYfM"
   },
   "outputs": [],
   "source": [
    "y_train_pred_90 = (y_scores >= threshold_90_precision)"
   ]
  },
  {
   "cell_type": "markdown",
   "metadata": {
    "id": "j1i302feXcHR"
   },
   "source": [
    "Comprobemos la precisión y el recuerdo de estas predicciones:"
   ]
  },
  {
   "cell_type": "code",
   "execution_count": null,
   "metadata": {
    "colab": {
     "base_uri": "https://localhost:8080/"
    },
    "id": "GhzIZ_uTtYfM",
    "outputId": "745addf6-6aa3-4e4e-b6f1-0f167628ccfd"
   },
   "outputs": [
    {
     "data": {
      "text/plain": [
       "0.9000345901072293"
      ]
     },
     "execution_count": 90,
     "metadata": {},
     "output_type": "execute_result"
    }
   ],
   "source": [
    "precision_score(y_train_5, y_train_pred_90)"
   ]
  },
  {
   "cell_type": "code",
   "execution_count": null,
   "metadata": {
    "colab": {
     "base_uri": "https://localhost:8080/"
    },
    "id": "4Zk9WW69tYfM",
    "outputId": "780d4c56-a343-44c0-e73c-8fb7430dbe92"
   },
   "outputs": [
    {
     "data": {
      "text/plain": [
       "0.4799852425751706"
      ]
     },
     "execution_count": 91,
     "metadata": {},
     "output_type": "execute_result"
    }
   ],
   "source": [
    "recall_score(y_train_5, y_train_pred_90)"
   ]
  },
  {
   "cell_type": "markdown",
   "metadata": {
    "id": "hF2mGQOdXmvM"
   },
   "source": [
    "Genial, ¡tienes un clasificador con un 90% de precisión!\n",
    "\n",
    "- Como puede ver, es bastante fácil crear un clasificador clasificador con prácticamente cualquier precisión que deseemos: basta con establecer un umbral lo suficientemente alto, y ya está.\n",
    "- No tan rápido. **Un clasificador de alta precisión no es muy útil si su sensibilidad es demasiado baja**."
   ]
  },
  {
   "cell_type": "markdown",
   "metadata": {
    "id": "LsbZOAoLtYfM"
   },
   "source": [
    "### Curva ROC"
   ]
  },
  {
   "cell_type": "markdown",
   "metadata": {
    "id": "VX03Keb6YUmX"
   },
   "source": [
    "La curva ROC **(receiver operating characteristic)** es otra herramienta común utilizada con clasificadores binarios.\n",
    "\n",
    "- Es muy similar a la curva de precisión/recuperación, pero en lugar de trazar precisión frente a la recuperación, la curva ROC traza la **tasa de verdaderos positivos** (TPR, otro nombre para la sensibilidad) **contra la tasa de falsos positivos** (FPR).\n",
    "- La FPR es la proporción de muestras negativas que\n",
    "se clasifican incorrectamente como positivos.\n",
    "  - Es igual a **uno menos la tasa de verdaderos negativos** (TNR),\n",
    "que es la proporción de muestras negativas clasificadas correctamente como negativas.\n",
    "- La TNR también se denomina **especificidad**.\n",
    "  - Por lo tanto, la curva ROC representa la sensibilidad frente a\n",
    "1 - especificidad.\n",
    "\n",
    "Para trazar la curva ROC, primero hay que calcular el TPR y el FPR para varios valores de umbral, utilizando la función **`roc_curve()`**:"
   ]
  },
  {
   "cell_type": "code",
   "execution_count": null,
   "metadata": {
    "id": "Sk0gN1d0tYfM"
   },
   "outputs": [],
   "source": [
    "from sklearn.metrics import roc_curve\n",
    "\n",
    "fpr, tpr, thresholds = roc_curve(y_train_5, y_scores)"
   ]
  },
  {
   "cell_type": "markdown",
   "metadata": {
    "id": "IiNZHwg5ZvS0"
   },
   "source": [
    "Then you can plot the FPR against the TPR using Matplotlib."
   ]
  },
  {
   "cell_type": "code",
   "execution_count": null,
   "metadata": {
    "colab": {
     "base_uri": "https://localhost:8080/",
     "height": 624
    },
    "id": "d7RnGz82tYfM",
    "outputId": "ab500e98-b00e-405a-d15d-631db68e3031"
   },
   "outputs": [
    {
     "name": "stdout",
     "output_type": "stream",
     "text": [
      "Saving figure roc_curve_plot\n"
     ]
    },
    {
     "data": {
      "image/png": "[encoded data removed]",
      "text/plain": [
       "<Figure size 800x600 with 1 Axes>"
      ]
     },
     "metadata": {},
     "output_type": "display_data"
    }
   ],
   "source": [
    "def plot_roc_curve(fpr, tpr, label=None):\n",
    "    plt.plot(fpr, tpr, linewidth=2, label=label)\n",
    "    plt.plot([0, 1], [0, 1], 'k--') # dashed diagonal\n",
    "    plt.axis([0, 1, 0, 1])\n",
    "    plt.xlabel('False Positive Rate (Fall-Out)', fontsize=16)\n",
    "    plt.ylabel('True Positive Rate (Recall)', fontsize=16)\n",
    "    plt.grid(True)\n",
    "\n",
    "plt.figure(figsize=(8, 6))\n",
    "plot_roc_curve(fpr, tpr)\n",
    "fpr_90 = fpr[np.argmax(tpr >= recall_90_precision)]\n",
    "plt.plot([fpr_90, fpr_90], [0., recall_90_precision], \"r:\")\n",
    "plt.plot([0.0, fpr_90], [recall_90_precision, recall_90_precision], \"r:\")\n",
    "plt.plot([fpr_90], [recall_90_precision], \"ro\")\n",
    "save_fig(\"roc_curve_plot\")\n",
    "plt.show()"
   ]
  },
  {
   "cell_type": "markdown",
   "metadata": {
    "id": "6gz_OJq6aGJh"
   },
   "source": [
    "Una vez más, existe un compromiso:\n",
    "\n",
    "- cuanto mayor sea la recuperación (TPR), más falsos positivos\n",
    "(FPR) produce el clasificador.\n",
    "\n",
    "- La línea de puntos representa la curva ROC de un clasificador puramente\n",
    "aleatorio;\n",
    "  - Un buen clasificador se mantiene lo más alejado posible de esa línea (hacia la esquina superior izquierda).\n",
    "la esquina superior izquierda).\n",
    "\n",
    "Una forma de comparar clasificadores es medir el **área bajo la curva** (AUC).\n",
    "\n",
    "- Un clasificador perfecto tendrá un AUC ROC igual a 1, mientras que un clasificador puramente aleatorio tendrá un AUC ROC igual a 0,5.\n",
    "- Scikit-Learn proporciona una función para calcular el AUC ROC:"
   ]
  },
  {
   "cell_type": "code",
   "execution_count": null,
   "metadata": {
    "colab": {
     "base_uri": "https://localhost:8080/"
    },
    "id": "eZ2iSMnHtYfM",
    "outputId": "d825a4c2-c0a0-4a92-b240-bb3cff5963a0"
   },
   "outputs": [
    {
     "data": {
      "text/plain": [
       "0.9604938554008616"
      ]
     },
     "execution_count": 94,
     "metadata": {},
     "output_type": "execute_result"
    }
   ],
   "source": [
    "from sklearn.metrics import roc_auc_score\n",
    "\n",
    "roc_auc_score(y_train_5, y_scores)"
   ]
  },
  {
   "cell_type": "markdown",
   "metadata": {
    "id": "LAMyaO6Ua42E"
   },
   "source": [
    "Entrenemos un `RandomForestClassifier` y comparemos su curva ROC y su puntuación ROC AUC con el `SGDClassifier`.\n",
    "\n",
    "- En primer lugar, es necesario obtener las puntuaciones de cada muestra del conjunto de entrenamiento.\n",
    "\n",
    "- Pero debido a su funcionamiento, la clase `RandomForestClassifier` no tiene un método `decision_function()`.\n",
    "\n",
    "- En su lugar tiene un método **`predict_proba()`**.\n",
    "\n",
    "- Los clasificadores de Scikit-Learn suelen tener uno u otro.\n",
    "\n",
    "- El método `predict_proba()` devuelve una matriz que contiene una fila por instancia y una columna por clase, cada una de las cuales contiene la probabilidad de que la instancia dada pertenezca a la clase dada (por ejemplo, 70% de probabilidad de que la imagen represente un 5)."
   ]
  },
  {
   "cell_type": "code",
   "execution_count": null,
   "metadata": {
    "id": "MCwGenybtYfN"
   },
   "outputs": [],
   "source": [
    "from sklearn.ensemble import RandomForestClassifier\n",
    "forest_clf = RandomForestClassifier(n_estimators=100, random_state=42)\n",
    "y_probas_forest = cross_val_predict(forest_clf, X_train, y_train_5, cv=3,\n",
    "                                    method=\"predict_proba\")"
   ]
  },
  {
   "cell_type": "markdown",
   "metadata": {
    "id": "7KVKEVSlbgsV"
   },
   "source": [
    "Pero para trazar una curva ROC se necesitan puntuaciones, no probabilidades.\n",
    "\n",
    "- Una solución sencilla es utilizar la probabilidad de la clase positiva como puntuación:"
   ]
  },
  {
   "cell_type": "code",
   "execution_count": null,
   "metadata": {
    "id": "WQ2GjPI3tYfN"
   },
   "outputs": [],
   "source": [
    "y_scores_forest = y_probas_forest[:, 1] # score = proba of positive class\n",
    "fpr_forest, tpr_forest, thresholds_forest = roc_curve(y_train_5, y_scores_forest)"
   ]
  },
  {
   "cell_type": "markdown",
   "metadata": {
    "id": "LfVeOfZ4bykK"
   },
   "source": [
    "Ahora ya podemos trazar la curva ROC.\n",
    "\n",
    "- Es útil trazar también la primera curva ROC para ver la comparación:"
   ]
  },
  {
   "cell_type": "code",
   "execution_count": null,
   "metadata": {
    "colab": {
     "base_uri": "https://localhost:8080/",
     "height": 624
    },
    "id": "EhY24tlCtYfN",
    "outputId": "af7115cb-ba0b-4a8c-8e5e-94f007edaba5"
   },
   "outputs": [
    {
     "name": "stdout",
     "output_type": "stream",
     "text": [
      "Saving figure roc_curve_comparison_plot\n"
     ]
    },
    {
     "data": {
      "image/png": "[encoded data removed]",
      "text/plain": [
       "<Figure size 800x600 with 1 Axes>"
      ]
     },
     "metadata": {},
     "output_type": "display_data"
    }
   ],
   "source": [
    "recall_for_forest = tpr_forest[np.argmax(fpr_forest >= fpr_90)]\n",
    "\n",
    "plt.figure(figsize=(8, 6))\n",
    "plt.plot(fpr, tpr, \"b:\", linewidth=2, label=\"SGD\")\n",
    "plot_roc_curve(fpr_forest, tpr_forest, \"Random Forest\")\n",
    "plt.plot([fpr_90, fpr_90], [0., recall_90_precision], \"r:\")\n",
    "plt.plot([0.0, fpr_90], [recall_90_precision, recall_90_precision], \"r:\")\n",
    "plt.plot([fpr_90], [recall_90_precision], \"ro\")\n",
    "plt.plot([fpr_90, fpr_90], [0., recall_for_forest], \"r:\")\n",
    "plt.plot([fpr_90], [recall_for_forest], \"ro\")\n",
    "plt.grid(True)\n",
    "plt.legend(loc=\"lower right\", fontsize=16)\n",
    "save_fig(\"roc_curve_comparison_plot\")\n",
    "plt.show()"
   ]
  },
  {
   "cell_type": "markdown",
   "metadata": {
    "id": "cft8Aq2TcB8P"
   },
   "source": [
    "La curva ROC del `RandomForestClassifier` se ve mucho mejor que la del `SGDClassifier`:\n",
    "\n",
    "- se acerca mucho más a la esquina superior izquierda. Como resultado, su puntuación AUC ROC también es significativamente mejor:"
   ]
  },
  {
   "cell_type": "code",
   "execution_count": null,
   "metadata": {
    "colab": {
     "base_uri": "https://localhost:8080/"
    },
    "id": "DI2s15jntYfN",
    "outputId": "5c85a3ea-ed5d-42f5-d600-3f0f81729c22"
   },
   "outputs": [
    {
     "data": {
      "text/plain": [
       "0.9983436731328145"
      ]
     },
     "execution_count": 98,
     "metadata": {},
     "output_type": "execute_result"
    }
   ],
   "source": [
    "roc_auc_score(y_train_5, y_scores_forest)"
   ]
  },
  {
   "cell_type": "markdown",
   "metadata": {
    "id": "dKWoyEzccStr"
   },
   "source": [
    "Probemos a medir las puntuaciones de precisión y sensibilidad:\n",
    "\n",
    "- 99,0% de precisión y 86,6% de sensibilidad. No está nada mal."
   ]
  },
  {
   "cell_type": "code",
   "execution_count": null,
   "metadata": {
    "colab": {
     "base_uri": "https://localhost:8080/"
    },
    "id": "__hmeZzDtYfN",
    "outputId": "308b4ada-5850-4da4-b9a1-03ca2f76c52d"
   },
   "outputs": [
    {
     "data": {
      "text/plain": [
       "0.9905083315756169"
      ]
     },
     "execution_count": 99,
     "metadata": {},
     "output_type": "execute_result"
    }
   ],
   "source": [
    "y_train_pred_forest = cross_val_predict(forest_clf, X_train, y_train_5, cv=3)\n",
    "precision_score(y_train_5, y_train_pred_forest)"
   ]
  },
  {
   "cell_type": "code",
   "execution_count": null,
   "metadata": {
    "colab": {
     "base_uri": "https://localhost:8080/"
    },
    "id": "lhq7AovYtYfN",
    "outputId": "f3af98d8-9c26-473e-dd17-99891169b633"
   },
   "outputs": [
    {
     "data": {
      "text/plain": [
       "0.8662608374838591"
      ]
     },
     "execution_count": 100,
     "metadata": {},
     "output_type": "execute_result"
    }
   ],
   "source": [
    "recall_score(y_train_5, y_train_pred_forest)"
   ]
  },
  {
   "cell_type": "markdown",
   "metadata": {
    "id": "UobQMSIIcW7A"
   },
   "source": [
    "Ahora ya sabemos cómo entrenar clasificadores binarios,\n",
    "1. elegir la métrica adecuada para su tarea,\n",
    "2. evaluar los clasificadores mediante validación cruzada,\n",
    "3. seleccionar el compromiso precisión/sensibilidad que se ajuste a sus necesidades,\n",
    "4. y comparar varios modelos utilizando curvas ROC y puntuaciones ROC AUC.\n",
    "\n",
    "Ahora intentemos detectar algo más que los 5s."
   ]
  },
  {
   "cell_type": "markdown",
   "metadata": {
    "id": "MSkRiDzktYfN"
   },
   "source": [
    "## Clasificación multiclase"
   ]
  },
  {
   "cell_type": "markdown",
   "metadata": {
    "id": "-px4IPW1MzWM"
   },
   "source": [
    "Mientras que los clasificadores binarios distinguen entre dos clases, los **clasificadores multiclase** (también llamados clasificadores multinomiales) pueden distinguir entre **más de dos** clases.\n",
    "\n",
    "- Algunos algoritmos (como los clasificadores Random Forest o los clasificadores Naive Bayes) son capaces de manejar múltiples clases directamente.\n",
    "- Otros (como los clasificadores Support Vector Machine o los clasificadores lineales) son clasificadores estrictamente binarios.\n",
    "  - Sin embargo, hay varias estrategias que puede utilizar para realizar una clasificación multiclase utilizando varios clasificadores binarios.\n",
    "\n",
    "Por ejemplo, una forma de crear un sistema que pueda clasificar las imágenes de dígitos en 10 clases (de 0 a 9) es entrenar 10 clasificadores binarios, uno para cada dígito (un detector 0, un detector 1, un detector 2, etc.).\n",
    "\n",
    "- Luego, cuando se quiere clasificar una imagen, se obtiene la puntuación de la decisión de cada clasificador para esa imagen y se selecciona la clase cuyo clasificador da la puntuación más alta.\n",
    "- Esto se denomina estrategia **one-versus-all** (**OvA**) (también llamada **one-versus-the-rest**).\n",
    "\n",
    "Otra estrategia consiste en entrenar un clasificador binario para cada par de dígitos: uno para distinguir 0s y 1s, otro para distinguir 0s y 2s, otro para 1s y 2s, y así sucesivamente.\n",
    "\n",
    "- Esto se denomina estrategia **one-versus-one** (OvO).\n",
    "- Si hay N clases, es necesario entrenar N × (N - 1) / 2 clasificadores.\n",
    "  - Para el problema MNIST, esto significa entrenar 45 clasificadores binarios.\n",
    "\n",
    "Scikit-Learn detecta cuando se intenta utilizar un algoritmo de clasificación binario para una tarea de clasificación multiclase, y automáticamente ejecuta OvA (excepto para los clasificadores SVM para los que utiliza OvO).\n",
    "\n",
    "Probemos esto con el `SVC`:"
   ]
  },
  {
   "cell_type": "code",
   "execution_count": null,
   "metadata": {
    "colab": {
     "base_uri": "https://localhost:8080/"
    },
    "id": "Ab_I7pketYfO",
    "outputId": "96c5cf22-a427-4f71-8b75-cd88823aa99f"
   },
   "outputs": [
    {
     "data": {
      "text/plain": [
       "array([5], dtype=uint8)"
      ]
     },
     "execution_count": 101,
     "metadata": {},
     "output_type": "execute_result"
    }
   ],
   "source": [
    "from sklearn.svm import SVC\n",
    "\n",
    "svm_clf = SVC(gamma=\"auto\", random_state=42)\n",
    "svm_clf.fit(X_train[:1000], y_train[:1000]) # y_train, not y_train_5\n",
    "svm_clf.predict([some_digit])"
   ]
  },
  {
   "cell_type": "markdown",
   "metadata": {
    "id": "L_qQ2sDiOQMu"
   },
   "source": [
    "Bajo el capó,\n",
    "1. Scikit-Learn entrenó 10 clasificadores binarios,\n",
    "2. obtuvo sus puntuaciones de decisión para la imagen, y\n",
    "3. seleccionó la clase con la puntuación más alta.\n",
    "\n",
    "Para ver que este es el caso, podemos llamar al método `decision_function()`.\n",
    "\n",
    "- En lugar de devolver sólo una puntuación por muestra, ahora devuelve 10 puntuaciones, una por clase."
   ]
  },
  {
   "cell_type": "code",
   "execution_count": null,
   "metadata": {
    "colab": {
     "base_uri": "https://localhost:8080/"
    },
    "id": "ITH9QJcftYfO",
    "outputId": "affc66a4-214c-4eb3-ca7b-195c00a9939c"
   },
   "outputs": [
    {
     "data": {
      "text/plain": [
       "array([[ 2.81585438,  7.09167958,  3.82972099,  0.79365551,  5.8885703 ,\n",
       "         9.29718395,  1.79862509,  8.10392157, -0.228207  ,  4.83753243]])"
      ]
     },
     "execution_count": 102,
     "metadata": {},
     "output_type": "execute_result"
    }
   ],
   "source": [
    "some_digit_scores = svm_clf.decision_function([some_digit])\n",
    "some_digit_scores"
   ]
  },
  {
   "cell_type": "markdown",
   "metadata": {
    "id": "OsEejo83O9n_"
   },
   "source": [
    "La puntuación más alta es la correspondiente a la clase 5:"
   ]
  },
  {
   "cell_type": "code",
   "execution_count": null,
   "metadata": {
    "colab": {
     "base_uri": "https://localhost:8080/"
    },
    "id": "DS5_vp1etYfO",
    "outputId": "ae35d59c-6468-409c-a795-ae3b73947bad"
   },
   "outputs": [
    {
     "data": {
      "text/plain": [
       "5"
      ]
     },
     "execution_count": 103,
     "metadata": {},
     "output_type": "execute_result"
    }
   ],
   "source": [
    "np.argmax(some_digit_scores)"
   ]
  },
  {
   "cell_type": "markdown",
   "metadata": {
    "id": "IwWv8RdtPLks"
   },
   "source": [
    "Cuando se entrena un clasificador, almacena la lista de clases objetivo en su atributo `classes_`, ordenadas por valor.\n",
    "\n",
    "- En este caso, el índice de cada clase en la matriz `classes_` coincide convenientemente con la propia clase (por ejemplo, la clase en el índice 5 resulta ser la clase 5), pero en general no tendremos tanta suerte."
   ]
  },
  {
   "cell_type": "code",
   "execution_count": null,
   "metadata": {
    "colab": {
     "base_uri": "https://localhost:8080/"
    },
    "id": "uG5jhJ2utYfO",
    "outputId": "1de4cd9b-5315-4515-a453-a9009ce8b0e8"
   },
   "outputs": [
    {
     "data": {
      "text/plain": [
       "array([0, 1, 2, 3, 4, 5, 6, 7, 8, 9], dtype=uint8)"
      ]
     },
     "execution_count": 104,
     "metadata": {},
     "output_type": "execute_result"
    }
   ],
   "source": [
    "svm_clf.classes_"
   ]
  },
  {
   "cell_type": "code",
   "execution_count": null,
   "metadata": {
    "colab": {
     "base_uri": "https://localhost:8080/"
    },
    "id": "8RtSZMOltYfO",
    "outputId": "78559dd9-ba2e-4323-e953-74de058c6363"
   },
   "outputs": [
    {
     "data": {
      "text/plain": [
       "5"
      ]
     },
     "execution_count": 105,
     "metadata": {},
     "output_type": "execute_result"
    }
   ],
   "source": [
    "svm_clf.classes_[5]"
   ]
  },
  {
   "cell_type": "markdown",
   "metadata": {
    "id": "3T5AOEWVPVSA"
   },
   "source": [
    "Si quieres **forzar** a ScikitLearn a usar  one-versus-one o one-versus-all, puedes usar las clases `OneVsOneClassifier` o `OneVsRestClassifier`.\n",
    "\n",
    "- Simplemente crea una muestra y pasa un clasificador binario a su constructor.\n",
    "\n",
    "Por ejemplo, este código crea un clasificador multiclase utilizando la estrategia OvO, basado en un `SGDClassifier`:"
   ]
  },
  {
   "cell_type": "code",
   "execution_count": null,
   "metadata": {
    "colab": {
     "base_uri": "https://localhost:8080/"
    },
    "id": "cZllVNzOtYfO",
    "outputId": "94a09b36-6dac-4655-cb3b-ec60ea493885"
   },
   "outputs": [
    {
     "data": {
      "text/plain": [
       "array([5], dtype=uint8)"
      ]
     },
     "execution_count": 106,
     "metadata": {},
     "output_type": "execute_result"
    }
   ],
   "source": [
    "from sklearn.linear_model import SGDClassifier\n",
    "from sklearn.multiclass import OneVsOneClassifier\n",
    "ovo_clf = OneVsOneClassifier(SGDClassifier(random_state=42))\n",
    "ovo_clf.fit(X_train, y_train)\n",
    "ovo_clf.predict([some_digit])"
   ]
  },
  {
   "cell_type": "code",
   "execution_count": null,
   "metadata": {
    "colab": {
     "base_uri": "https://localhost:8080/"
    },
    "id": "MFsnt_D9tYfO",
    "outputId": "657b5bd3-1282-4e97-c43b-518f001a49eb"
   },
   "outputs": [
    {
     "data": {
      "text/plain": [
       "45"
      ]
     },
     "execution_count": 107,
     "metadata": {},
     "output_type": "execute_result"
    }
   ],
   "source": [
    "len(ovo_clf.estimators_)"
   ]
  },
  {
   "cell_type": "markdown",
   "metadata": {
    "id": "HfqfB-kuSw8e"
   },
   "source": [
    "Entrenar un `RandomForestClassifier` es tan fácil como:"
   ]
  },
  {
   "cell_type": "code",
   "execution_count": null,
   "metadata": {
    "colab": {
     "base_uri": "https://localhost:8080/"
    },
    "id": "nP1nPFXFtYfO",
    "outputId": "7b4e3a81-7fdf-4788-90b4-b3a3544d402f"
   },
   "outputs": [
    {
     "data": {
      "text/plain": [
       "array([5], dtype=uint8)"
      ]
     },
     "execution_count": 108,
     "metadata": {},
     "output_type": "execute_result"
    }
   ],
   "source": [
    "from sklearn.ensemble import RandomForestClassifier\n",
    "forest_clf = RandomForestClassifier(n_estimators=100, random_state=42)\n",
    "forest_clf.fit(X_train, y_train)\n",
    "forest_clf.predict([some_digit])"
   ]
  },
  {
   "cell_type": "markdown",
   "metadata": {
    "id": "UQJ9PRwaTJkI"
   },
   "source": [
    "Esta vez Scikit-Learn no tuvo que ejecutar OvA u OvO porque los clasificadores Random Forest pueden clasificar directamente las muestras en varias clases.\n",
    "\n",
    " - Podemos llamar a `predict_proba()` para obtener la lista de probabilidades que el clasificador asignó a cada muestra para cada clase:"
   ]
  },
  {
   "cell_type": "code",
   "execution_count": null,
   "metadata": {
    "colab": {
     "base_uri": "https://localhost:8080/"
    },
    "id": "6IMAkkJetYfP",
    "outputId": "4a61ef96-e974-42cc-a8b0-4fde54505bc1"
   },
   "outputs": [
    {
     "data": {
      "text/plain": [
       "array([[0.  , 0.  , 0.01, 0.08, 0.  , 0.9 , 0.  , 0.  , 0.  , 0.01]])"
      ]
     },
     "execution_count": 109,
     "metadata": {},
     "output_type": "execute_result"
    }
   ],
   "source": [
    "forest_clf.predict_proba([some_digit])"
   ]
  },
  {
   "cell_type": "markdown",
   "metadata": {
    "id": "tWdR4ihetYfP"
   },
   "source": [
    "Se puede ver que el clasificador tiene bastante confianza en su predicción:\n",
    "\n",
    "- el 0,9 en el índice 5 de la matriz significa que el modelo estima en un 90% la probabilidad de que la imagen represente un 5. También piensa que la imagen podría ser en cambio un 2, un 3 o un 9, respectivamente, con un 1% y un 8% de probabilidad.\n",
    "- También cree que la imagen podría ser un 2, un 3 o un 9, respectivamente, con un 1%, un 8% y un 1% de probabilidad.\n",
    "\n",
    "Por supuesto, ahora queremos evaluar estos clasificadores. Como de costumbre, se utiliza la validación cruzada. Por ejemplo, evaluemos la exactitud del `SGDClassifier` usando la función `cross_val_score()`:\n",
    "\n",
    "> **Warning**: las siguientes dos celdas pueden tardar cerca de 30 minutos en ejecutarse, o más dependiendo de tu hardware."
   ]
  },
  {
   "cell_type": "code",
   "execution_count": null,
   "metadata": {
    "colab": {
     "base_uri": "https://localhost:8080/"
    },
    "id": "p0FVao4OtYfP",
    "outputId": "8e1c4990-c3f0-4f44-e4b8-16be5b2cb14d"
   },
   "outputs": [
    {
     "data": {
      "text/plain": [
       "array([0.87365, 0.85835, 0.8689 ])"
      ]
     },
     "execution_count": 110,
     "metadata": {},
     "output_type": "execute_result"
    }
   ],
   "source": [
    "cross_val_score(sgd_clf, X_train, y_train, cv=3, scoring=\"accuracy\")"
   ]
  },
  {
   "cell_type": "markdown",
   "metadata": {
    "id": "DLcTleroUXbL"
   },
   "source": [
    "Se obtiene más del 84% en todas las particiones de validación.\n",
    "\n",
    "- Si utilizara un clasificador aleatorio, obtendría un 10% de de exactitud, por lo que no es tan mala puntuación, pero aún se puede mejorar mucho.\n",
    "\n",
    "Por ejemplo, simplemente **escalando las entradas** (como se ha comentado anteriormente) aumenta la exactitud por encima del 89%:"
   ]
  },
  {
   "cell_type": "code",
   "execution_count": null,
   "metadata": {
    "colab": {
     "base_uri": "https://localhost:8080/"
    },
    "id": "hEe-3hFytYfQ",
    "outputId": "bca173ca-2871-43c9-eabf-f0430122a169"
   },
   "outputs": [
    {
     "data": {
      "text/plain": [
       "array([0.8983, 0.891 , 0.9018])"
      ]
     },
     "execution_count": 111,
     "metadata": {},
     "output_type": "execute_result"
    }
   ],
   "source": [
    "from sklearn.preprocessing import StandardScaler\n",
    "scaler = StandardScaler()\n",
    "X_train_scaled = scaler.fit_transform(X_train.astype(np.float64))\n",
    "cross_val_score(sgd_clf, X_train_scaled, y_train, cv=3, scoring=\"accuracy\")"
   ]
  },
  {
   "cell_type": "markdown",
   "metadata": {
    "id": "EsN-NsJ0tYfQ"
   },
   "source": [
    "## Análisis de errores"
   ]
  },
  {
   "cell_type": "markdown",
   "metadata": {
    "id": "p5L3_Ai4VbIM"
   },
   "source": [
    "Por supuesto, si se tratara de un proyecto real, se seguirían los siguientes pasos:\n",
    "\n",
    "1. explorar las opciones de preparación de datos,\n",
    "2. probar varios modelos,\n",
    "3. seleccionar los mejores, y\n",
    "4. ajuste (fine-tunning) de sus hiperparámetros utilizando GridSearchCV, y automatización en la medida de lo posible.\n",
    "\n",
    "Aquí, vamos a suponer que usted ha encontrado un modelo prometedor y quiere encontrar maneras de mejorarlo.\n",
    "\n",
    "- Una forma de hacerlo es **analizar los tipos de errores** que comete.\n",
    "\n",
    "En primer lugar, puedes mirar la matriz de confusión.\n",
    "- Tenemos que calcular predicciones utilizando la función\n",
    "función `cross_val_predict()`,\n",
    "- luego llamar a la función `confusion_matrix()`, igual que como hicimos antes:"
   ]
  },
  {
   "cell_type": "code",
   "execution_count": null,
   "metadata": {
    "colab": {
     "base_uri": "https://localhost:8080/"
    },
    "id": "_lIxhmWztYfQ",
    "outputId": "152e2ce8-4919-41a5-bdfb-29b61307d9da"
   },
   "outputs": [
    {
     "data": {
      "text/plain": [
       "array([[5577,    0,   22,    5,    8,   43,   36,    6,  225,    1],\n",
       "       [   0, 6400,   37,   24,    4,   44,    4,    7,  212,   10],\n",
       "       [  27,   27, 5220,   92,   73,   27,   67,   36,  378,   11],\n",
       "       [  22,   17,  117, 5227,    2,  203,   27,   40,  403,   73],\n",
       "       [  12,   14,   41,    9, 5182,   12,   34,   27,  347,  164],\n",
       "       [  27,   15,   30,  168,   53, 4444,   75,   14,  535,   60],\n",
       "       [  30,   15,   42,    3,   44,   97, 5552,    3,  131,    1],\n",
       "       [  21,   10,   51,   30,   49,   12,    3, 5684,  195,  210],\n",
       "       [  17,   63,   48,   86,    3,  126,   25,   10, 5429,   44],\n",
       "       [  25,   18,   30,   64,  118,   36,    1,  179,  371, 5107]])"
      ]
     },
     "execution_count": 112,
     "metadata": {},
     "output_type": "execute_result"
    }
   ],
   "source": [
    "y_train_pred = cross_val_predict(sgd_clf, X_train_scaled, y_train, cv=3)\n",
    "conf_mx = confusion_matrix(y_train, y_train_pred)\n",
    "conf_mx"
   ]
  },
  {
   "cell_type": "markdown",
   "metadata": {
    "id": "fmD7psTVWM1X"
   },
   "source": [
    "Son muchos números.\n",
    "\n",
    "- A menudo es más conveniente mirar una representación gráfica de la matriz de confusión, utilizando la función `matshow()` de Matplotlib:"
   ]
  },
  {
   "cell_type": "code",
   "execution_count": null,
   "metadata": {
    "id": "OSJZ5hihtYfQ"
   },
   "outputs": [],
   "source": [
    "# since sklearn 0.22, you can use sklearn.metrics.plot_confusion_matrix()\n",
    "def plot_confusion_matrix(matrix):\n",
    "    \"\"\"If you prefer color and a colorbar\"\"\"\n",
    "    fig = plt.figure(figsize=(8,8))\n",
    "    ax = fig.add_subplot(111)\n",
    "    cax = ax.matshow(matrix)\n",
    "    fig.colorbar(cax)"
   ]
  },
  {
   "cell_type": "code",
   "execution_count": null,
   "metadata": {
    "colab": {
     "base_uri": "https://localhost:8080/",
     "height": 458
    },
    "id": "jy735wRwtYfQ",
    "outputId": "df317140-2d3a-4814-86e0-6007a567fdfb"
   },
   "outputs": [
    {
     "name": "stdout",
     "output_type": "stream",
     "text": [
      "Saving figure confusion_matrix_plot\n"
     ]
    },
    {
     "data": {
      "image/png": "[encoded data removed]",
      "text/plain": [
       "<Figure size 480x480 with 1 Axes>"
      ]
     },
     "metadata": {},
     "output_type": "display_data"
    }
   ],
   "source": [
    "plt.matshow(conf_mx, cmap=plt.cm.gray)\n",
    "save_fig(\"confusion_matrix_plot\", tight_layout=False)\n",
    "plt.show()"
   ]
  },
  {
   "cell_type": "markdown",
   "metadata": {
    "id": "143Aw2KrWqr1"
   },
   "source": [
    "Esta matriz de confusión se ve bastante bien, ya que la mayoría de las imágenes están en la diagonal principal, lo que significa que fueron clasificadas correctamente.\n",
    "- Los 5 se ven ligeramente más oscuros que otros dígitos, lo que podría significar que hay menos imágenes de 5s en el conjunto de datos o que el clasificador no funciona tan bien con los 5s como con otros dígitos.\n",
    "  - De hecho, deberíamos comprobar ambas casas.\n",
    "\n",
    "Centremos el gráfico en los errores.\n",
    "- En primer lugar, hay que dividir cada valor de la matriz de confusión por el número de imágenes de la clase correspondiente,\n",
    "  - para poder comparar las tasas de error en lugar del número absoluto de errores (que haría que las clases abundantes parecieran injustamente malas):"
   ]
  },
  {
   "cell_type": "code",
   "execution_count": null,
   "metadata": {
    "id": "CFqDu3C7tYfQ"
   },
   "outputs": [],
   "source": [
    "row_sums = conf_mx.sum(axis=1, keepdims=True)\n",
    "norm_conf_mx = conf_mx / row_sums"
   ]
  },
  {
   "cell_type": "code",
   "execution_count": null,
   "metadata": {
    "colab": {
     "base_uri": "https://localhost:8080/",
     "height": 458
    },
    "id": "Vun7wN6htYfQ",
    "outputId": "2d9cf4df-51da-4e20-dd70-3d9a92bb4fe1"
   },
   "outputs": [
    {
     "name": "stdout",
     "output_type": "stream",
     "text": [
      "Saving figure confusion_matrix_errors_plot\n"
     ]
    },
    {
     "data": {
      "image/png": "[encoded data removed]",
      "text/plain": [
       "<Figure size 480x480 with 1 Axes>"
      ]
     },
     "metadata": {},
     "output_type": "display_data"
    }
   ],
   "source": [
    "np.fill_diagonal(norm_conf_mx, 0)\n",
    "plt.matshow(norm_conf_mx, cmap=plt.cm.gray)\n",
    "save_fig(\"confusion_matrix_errors_plot\", tight_layout=False)\n",
    "plt.show()"
   ]
  },
  {
   "cell_type": "markdown",
   "metadata": {
    "id": "XK9kjSQvXSJK"
   },
   "source": [
    "Ahora puede ver claramente los **tipos de errores** que comete el clasificador.\n",
    "- Recuerde que las filas representan las clases reales, mientras que las columnas representan las clases predichas.\n",
    "- La columna para la clase 8 es bastante brillante, lo que indica que muchas imágenes se clasifican erróneamente como 8s.\n",
    "  - Sin embargo, la fila de la clase 8 no es tan mala, lo que indica que los 8 reales se clasifican correctamente como 8.\n",
    "- También se puede ver que los 3 y los 5 se confunden a menudo (en ambas direcciones).\n",
    "\n",
    "**El análisis de la matriz de confusión** puede darnos ideas para mejorar nuestro clasificador.\n",
    "- Mirando este gráfico, parece que debemos centrarnos en la reducción de los 8 falsos.\n",
    "  - Por ejemplo, podriamos intentar reunir más datos de entrenamiento para dígitos que parecen 8 (pero no lo son) para que el clasificador aprenda a distinguirlos de los 8 reales.\n",
    "- También se podrían diseñar nuevas características que ayudaran al clasificador, por ejemplo, escribir un algoritmo para contar el número de bucles cerrados (por ejemplo, 8 tiene dos, 6 tiene uno, 5 no tiene ninguno).\n",
    "- O se podría preprocesar las imágenes (por ejemplo, utilizando Scikit-Image, Pillow, u OpenCV) para que algunos patrones destaquen más, como los bucles cerrados.\n",
    "\n",
    "**Analizar los errores individuales** también puede ser una buena forma de comprender lo que está haciendo tu clasificador y por qué está fallando, pero es más difícil y lleva más tiempo.\n",
    "\n",
    "- Por ejemplo, vamos a trazar ejemplos de 3s y 5s (la función `plot_digits()` sólo utiliza la función `imshow()` de Matplotlib:"
   ]
  },
  {
   "cell_type": "code",
   "execution_count": null,
   "metadata": {
    "colab": {
     "base_uri": "https://localhost:8080/",
     "height": 824
    },
    "id": "do2lUcfItYfQ",
    "outputId": "34ace352-672a-4feb-8e0e-a540f5ae5778"
   },
   "outputs": [
    {
     "name": "stdout",
     "output_type": "stream",
     "text": [
      "Saving figure error_analysis_digits_plot\n"
     ]
    },
    {
     "data": {
      "image/png": "[encoded data removed]",
      "text/plain": [
       "<Figure size 800x800 with 4 Axes>"
      ]
     },
     "metadata": {},
     "output_type": "display_data"
    }
   ],
   "source": [
    "cl_a, cl_b = 3, 5\n",
    "X_aa = X_train[(y_train == cl_a) & (y_train_pred == cl_a)]\n",
    "X_ab = X_train[(y_train == cl_a) & (y_train_pred == cl_b)]\n",
    "X_ba = X_train[(y_train == cl_b) & (y_train_pred == cl_a)]\n",
    "X_bb = X_train[(y_train == cl_b) & (y_train_pred == cl_b)]\n",
    "\n",
    "plt.figure(figsize=(8,8))\n",
    "plt.subplot(221); plot_digits(X_aa[:25], images_per_row=5)\n",
    "plt.subplot(222); plot_digits(X_ab[:25], images_per_row=5)\n",
    "plt.subplot(223); plot_digits(X_ba[:25], images_per_row=5)\n",
    "plt.subplot(224); plot_digits(X_bb[:25], images_per_row=5)\n",
    "save_fig(\"error_analysis_digits_plot\")\n",
    "plt.show()"
   ]
  },
  {
   "cell_type": "markdown",
   "metadata": {
    "id": "pKcO4lsnYnaM"
   },
   "source": [
    "Los dos bloques de 5×5 de la izquierda muestran dígitos clasificados como 3s, y los dos bloques de 5×5 de la derecha muestran imágenes clasificadas como 5s.\n",
    "- Algunos de los dígitos en los que el clasificador se equivoca (es decir, en los bloques inferior izquierdo y superior derecho) están tan mal escritos que incluso un humano tendría problemas para clasificarlos (por ejemplo, el 5 de la primera fila y la segunda columna parece realmente un 3 mal escrito).\n",
    "- Sin embargo, la mayoría de las imágenes mal clasificadas nos parecen errores obvios, y es difícil entender por qué el clasificador cometió los errores que cometió.\n",
    "  - La razón es que utilizamos un simple `SGDClassifier`, que es un modelo lineal.\n",
    "  - Todo lo que hace es asignar un peso por clase a cada píxel, y cuando ve una nueva imagen simplemente suma las intensidades ponderadas de los píxeles para obtener una puntuación para cada clase.\n",
    "  - Así que como 3s y 5s sólo se diferencian en unos pocos píxeles, este modelo los confundirá fácilmente.\n",
    "\n",
    "La principal diferencia entre 3s y 5s es la posición de la pequeña línea que une la línea superior con el arco inferior.\n",
    "- Si dibujas un 3 con la unión ligeramente desplazada hacia la izquierda, el clasificador podría clasificarlo como un 5, y viceversa.\n",
    "- En otras palabras, este clasificador es bastante sensible al desplazamiento y la rotación de la imagen.\n",
    "  - Así que una forma de reducir la confusión 3/5 sería preprocesar las imágenes para asegurarse de que están bien centradas y no demasiado rotadas.\n",
    "  - Esto probablemente también ayudará a reducir otros errores."
   ]
  },
  {
   "cell_type": "markdown",
   "metadata": {
    "id": "JfQRU3yctYfR"
   },
   "source": [
    "## Clasificación multietiqueta"
   ]
  },
  {
   "cell_type": "markdown",
   "metadata": {
    "id": "rUzOFw2QbEUq"
   },
   "source": [
    "Hasta ahora, cada muestra se ha asignado siempre a una sola clase. En algunos casos, es posible que desee que su clasificador genere **múltiples clases para cada muestra**.\n",
    "- Por ejemplo, consideremos un clasificador de reconocimiento facial: ¿qué debe hacer si reconoce a varias personas en la misma imagen?\n",
    "  - Por supuesto, debe asignar una etiqueta a cada persona que reconozca.\n",
    "- Supongamos que el clasificador ha sido entrenado para reconocer tres caras, Alice, Bob y Charlie;\n",
    "  - entonces, cuando se le muestre una imagen de Alicia y Charlie, debería emitir [1, 0, 1] (lo que significa \"Alicia sí, Bob no, Charlie sí\").\n",
    "- Un sistema de clasificación de este tipo que emite múltiples etiquetas binarias se denomina **sistema de clasificación multietiqueta**.\n",
    "\n",
    "Veamos un ejemplo más sencillo:\n",
    "- El siguiente código crea una matriz `y_multilabel` que contiene dos etiquetas de destino para cada imagen de dígito:\n",
    "  - la primera indica si el dígito es grande (7, 8 o 9)\n",
    "  - y la segunda indica si es impar o no.\n",
    "- Las líneas siguientes crean una muestra de `KNeighborsClassifier` (que **soporta la clasificación multietiqueta**, no todos los clasificadores la soportan) y la entrenamos utilizando la matriz anterior."
   ]
  },
  {
   "cell_type": "code",
   "execution_count": null,
   "metadata": {
    "colab": {
     "base_uri": "https://localhost:8080/",
     "height": 80
    },
    "id": "zeQsgVo5tYfR",
    "outputId": "d5527779-0f8f-45d4-d365-bc0ae8d7bb79"
   },
   "outputs": [
    {
     "data": {
      "text/html": [
       "<style>#sk-container-id-3 {\n",
       "  /* Definition of color scheme common for light and dark mode */\n",
       "  --sklearn-color-text: black;\n",
       "  --sklearn-color-line: gray;\n",
       "  /* Definition of color scheme for unfitted estimators */\n",
       "  --sklearn-color-unfitted-level-0: #fff5e6;\n",
       "  --sklearn-color-unfitted-level-1: #f6e4d2;\n",
       "  --sklearn-color-unfitted-level-2: #ffe0b3;\n",
       "  --sklearn-color-unfitted-level-3: chocolate;\n",
       "  /* Definition of color scheme for fitted estimators */\n",
       "  --sklearn-color-fitted-level-0: #f0f8ff;\n",
       "  --sklearn-color-fitted-level-1: #d4ebff;\n",
       "  --sklearn-color-fitted-level-2: #b3dbfd;\n",
       "  --sklearn-color-fitted-level-3: cornflowerblue;\n",
       "\n",
       "  /* Specific color for light theme */\n",
       "  --sklearn-color-text-on-default-background: var(--sg-text-color, var(--theme-code-foreground, var(--jp-content-font-color1, black)));\n",
       "  --sklearn-color-background: var(--sg-background-color, var(--theme-background, var(--jp-layout-color0, white)));\n",
       "  --sklearn-color-border-box: var(--sg-text-color, var(--theme-code-foreground, var(--jp-content-font-color1, black)));\n",
       "  --sklearn-color-icon: #696969;\n",
       "\n",
       "  @media (prefers-color-scheme: dark) {\n",
       "    /* Redefinition of color scheme for dark theme */\n",
       "    --sklearn-color-text-on-default-background: var(--sg-text-color, var(--theme-code-foreground, var(--jp-content-font-color1, white)));\n",
       "    --sklearn-color-background: var(--sg-background-color, var(--theme-background, var(--jp-layout-color0, #111)));\n",
       "    --sklearn-color-border-box: var(--sg-text-color, var(--theme-code-foreground, var(--jp-content-font-color1, white)));\n",
       "    --sklearn-color-icon: #878787;\n",
       "  }\n",
       "}\n",
       "\n",
       "#sk-container-id-3 {\n",
       "  color: var(--sklearn-color-text);\n",
       "}\n",
       "\n",
       "#sk-container-id-3 pre {\n",
       "  padding: 0;\n",
       "}\n",
       "\n",
       "#sk-container-id-3 input.sk-hidden--visually {\n",
       "  border: 0;\n",
       "  clip: rect(1px 1px 1px 1px);\n",
       "  clip: rect(1px, 1px, 1px, 1px);\n",
       "  height: 1px;\n",
       "  margin: -1px;\n",
       "  overflow: hidden;\n",
       "  padding: 0;\n",
       "  position: absolute;\n",
       "  width: 1px;\n",
       "}\n",
       "\n",
       "#sk-container-id-3 div.sk-dashed-wrapped {\n",
       "  border: 1px dashed var(--sklearn-color-line);\n",
       "  margin: 0 0.4em 0.5em 0.4em;\n",
       "  box-sizing: border-box;\n",
       "  padding-bottom: 0.4em;\n",
       "  background-color: var(--sklearn-color-background);\n",
       "}\n",
       "\n",
       "#sk-container-id-3 div.sk-container {\n",
       "  /* jupyter's `normalize.less` sets `[hidden] { display: none; }`\n",
       "     but bootstrap.min.css set `[hidden] { display: none !important; }`\n",
       "     so we also need the `!important` here to be able to override the\n",
       "     default hidden behavior on the sphinx rendered scikit-learn.org.\n",
       "     See: https://github.com/scikit-learn/scikit-learn/issues/21755 */\n",
       "  display: inline-block !important;\n",
       "  position: relative;\n",
       "}\n",
       "\n",
       "#sk-container-id-3 div.sk-text-repr-fallback {\n",
       "  display: none;\n",
       "}\n",
       "\n",
       "div.sk-parallel-item,\n",
       "div.sk-serial,\n",
       "div.sk-item {\n",
       "  /* draw centered vertical line to link estimators */\n",
       "  background-image: linear-gradient(var(--sklearn-color-text-on-default-background), var(--sklearn-color-text-on-default-background));\n",
       "  background-size: 2px 100%;\n",
       "  background-repeat: no-repeat;\n",
       "  background-position: center center;\n",
       "}\n",
       "\n",
       "/* Parallel-specific style estimator block */\n",
       "\n",
       "#sk-container-id-3 div.sk-parallel-item::after {\n",
       "  content: \"\";\n",
       "  width: 100%;\n",
       "  border-bottom: 2px solid var(--sklearn-color-text-on-default-background);\n",
       "  flex-grow: 1;\n",
       "}\n",
       "\n",
       "#sk-container-id-3 div.sk-parallel {\n",
       "  display: flex;\n",
       "  align-items: stretch;\n",
       "  justify-content: center;\n",
       "  background-color: var(--sklearn-color-background);\n",
       "  position: relative;\n",
       "}\n",
       "\n",
       "#sk-container-id-3 div.sk-parallel-item {\n",
       "  display: flex;\n",
       "  flex-direction: column;\n",
       "}\n",
       "\n",
       "#sk-container-id-3 div.sk-parallel-item:first-child::after {\n",
       "  align-self: flex-end;\n",
       "  width: 50%;\n",
       "}\n",
       "\n",
       "#sk-container-id-3 div.sk-parallel-item:last-child::after {\n",
       "  align-self: flex-start;\n",
       "  width: 50%;\n",
       "}\n",
       "\n",
       "#sk-container-id-3 div.sk-parallel-item:only-child::after {\n",
       "  width: 0;\n",
       "}\n",
       "\n",
       "/* Serial-specific style estimator block */\n",
       "\n",
       "#sk-container-id-3 div.sk-serial {\n",
       "  display: flex;\n",
       "  flex-direction: column;\n",
       "  align-items: center;\n",
       "  background-color: var(--sklearn-color-background);\n",
       "  padding-right: 1em;\n",
       "  padding-left: 1em;\n",
       "}\n",
       "\n",
       "\n",
       "/* Toggleable style: style used for estimator/Pipeline/ColumnTransformer box that is\n",
       "clickable and can be expanded/collapsed.\n",
       "- Pipeline and ColumnTransformer use this feature and define the default style\n",
       "- Estimators will overwrite some part of the style using the `sk-estimator` class\n",
       "*/\n",
       "\n",
       "/* Pipeline and ColumnTransformer style (default) */\n",
       "\n",
       "#sk-container-id-3 div.sk-toggleable {\n",
       "  /* Default theme specific background. It is overwritten whether we have a\n",
       "  specific estimator or a Pipeline/ColumnTransformer */\n",
       "  background-color: var(--sklearn-color-background);\n",
       "}\n",
       "\n",
       "/* Toggleable label */\n",
       "#sk-container-id-3 label.sk-toggleable__label {\n",
       "  cursor: pointer;\n",
       "  display: block;\n",
       "  width: 100%;\n",
       "  margin-bottom: 0;\n",
       "  padding: 0.5em;\n",
       "  box-sizing: border-box;\n",
       "  text-align: center;\n",
       "}\n",
       "\n",
       "#sk-container-id-3 label.sk-toggleable__label-arrow:before {\n",
       "  /* Arrow on the left of the label */\n",
       "  content: \"▸\";\n",
       "  float: left;\n",
       "  margin-right: 0.25em;\n",
       "  color: var(--sklearn-color-icon);\n",
       "}\n",
       "\n",
       "#sk-container-id-3 label.sk-toggleable__label-arrow:hover:before {\n",
       "  color: var(--sklearn-color-text);\n",
       "}\n",
       "\n",
       "/* Toggleable content - dropdown */\n",
       "\n",
       "#sk-container-id-3 div.sk-toggleable__content {\n",
       "  max-height: 0;\n",
       "  max-width: 0;\n",
       "  overflow: hidden;\n",
       "  text-align: left;\n",
       "  /* unfitted */\n",
       "  background-color: var(--sklearn-color-unfitted-level-0);\n",
       "}\n",
       "\n",
       "#sk-container-id-3 div.sk-toggleable__content.fitted {\n",
       "  /* fitted */\n",
       "  background-color: var(--sklearn-color-fitted-level-0);\n",
       "}\n",
       "\n",
       "#sk-container-id-3 div.sk-toggleable__content pre {\n",
       "  margin: 0.2em;\n",
       "  border-radius: 0.25em;\n",
       "  color: var(--sklearn-color-text);\n",
       "  /* unfitted */\n",
       "  background-color: var(--sklearn-color-unfitted-level-0);\n",
       "}\n",
       "\n",
       "#sk-container-id-3 div.sk-toggleable__content.fitted pre {\n",
       "  /* unfitted */\n",
       "  background-color: var(--sklearn-color-fitted-level-0);\n",
       "}\n",
       "\n",
       "#sk-container-id-3 input.sk-toggleable__control:checked~div.sk-toggleable__content {\n",
       "  /* Expand drop-down */\n",
       "  max-height: 200px;\n",
       "  max-width: 100%;\n",
       "  overflow: auto;\n",
       "}\n",
       "\n",
       "#sk-container-id-3 input.sk-toggleable__control:checked~label.sk-toggleable__label-arrow:before {\n",
       "  content: \"▾\";\n",
       "}\n",
       "\n",
       "/* Pipeline/ColumnTransformer-specific style */\n",
       "\n",
       "#sk-container-id-3 div.sk-label input.sk-toggleable__control:checked~label.sk-toggleable__label {\n",
       "  color: var(--sklearn-color-text);\n",
       "  background-color: var(--sklearn-color-unfitted-level-2);\n",
       "}\n",
       "\n",
       "#sk-container-id-3 div.sk-label.fitted input.sk-toggleable__control:checked~label.sk-toggleable__label {\n",
       "  background-color: var(--sklearn-color-fitted-level-2);\n",
       "}\n",
       "\n",
       "/* Estimator-specific style */\n",
       "\n",
       "/* Colorize estimator box */\n",
       "#sk-container-id-3 div.sk-estimator input.sk-toggleable__control:checked~label.sk-toggleable__label {\n",
       "  /* unfitted */\n",
       "  background-color: var(--sklearn-color-unfitted-level-2);\n",
       "}\n",
       "\n",
       "#sk-container-id-3 div.sk-estimator.fitted input.sk-toggleable__control:checked~label.sk-toggleable__label {\n",
       "  /* fitted */\n",
       "  background-color: var(--sklearn-color-fitted-level-2);\n",
       "}\n",
       "\n",
       "#sk-container-id-3 div.sk-label label.sk-toggleable__label,\n",
       "#sk-container-id-3 div.sk-label label {\n",
       "  /* The background is the default theme color */\n",
       "  color: var(--sklearn-color-text-on-default-background);\n",
       "}\n",
       "\n",
       "/* On hover, darken the color of the background */\n",
       "#sk-container-id-3 div.sk-label:hover label.sk-toggleable__label {\n",
       "  color: var(--sklearn-color-text);\n",
       "  background-color: var(--sklearn-color-unfitted-level-2);\n",
       "}\n",
       "\n",
       "/* Label box, darken color on hover, fitted */\n",
       "#sk-container-id-3 div.sk-label.fitted:hover label.sk-toggleable__label.fitted {\n",
       "  color: var(--sklearn-color-text);\n",
       "  background-color: var(--sklearn-color-fitted-level-2);\n",
       "}\n",
       "\n",
       "/* Estimator label */\n",
       "\n",
       "#sk-container-id-3 div.sk-label label {\n",
       "  font-family: monospace;\n",
       "  font-weight: bold;\n",
       "  display: inline-block;\n",
       "  line-height: 1.2em;\n",
       "}\n",
       "\n",
       "#sk-container-id-3 div.sk-label-container {\n",
       "  text-align: center;\n",
       "}\n",
       "\n",
       "/* Estimator-specific */\n",
       "#sk-container-id-3 div.sk-estimator {\n",
       "  font-family: monospace;\n",
       "  border: 1px dotted var(--sklearn-color-border-box);\n",
       "  border-radius: 0.25em;\n",
       "  box-sizing: border-box;\n",
       "  margin-bottom: 0.5em;\n",
       "  /* unfitted */\n",
       "  background-color: var(--sklearn-color-unfitted-level-0);\n",
       "}\n",
       "\n",
       "#sk-container-id-3 div.sk-estimator.fitted {\n",
       "  /* fitted */\n",
       "  background-color: var(--sklearn-color-fitted-level-0);\n",
       "}\n",
       "\n",
       "/* on hover */\n",
       "#sk-container-id-3 div.sk-estimator:hover {\n",
       "  /* unfitted */\n",
       "  background-color: var(--sklearn-color-unfitted-level-2);\n",
       "}\n",
       "\n",
       "#sk-container-id-3 div.sk-estimator.fitted:hover {\n",
       "  /* fitted */\n",
       "  background-color: var(--sklearn-color-fitted-level-2);\n",
       "}\n",
       "\n",
       "/* Specification for estimator info (e.g. \"i\" and \"?\") */\n",
       "\n",
       "/* Common style for \"i\" and \"?\" */\n",
       "\n",
       ".sk-estimator-doc-link,\n",
       "a:link.sk-estimator-doc-link,\n",
       "a:visited.sk-estimator-doc-link {\n",
       "  float: right;\n",
       "  font-size: smaller;\n",
       "  line-height: 1em;\n",
       "  font-family: monospace;\n",
       "  background-color: var(--sklearn-color-background);\n",
       "  border-radius: 1em;\n",
       "  height: 1em;\n",
       "  width: 1em;\n",
       "  text-decoration: none !important;\n",
       "  margin-left: 1ex;\n",
       "  /* unfitted */\n",
       "  border: var(--sklearn-color-unfitted-level-1) 1pt solid;\n",
       "  color: var(--sklearn-color-unfitted-level-1);\n",
       "}\n",
       "\n",
       ".sk-estimator-doc-link.fitted,\n",
       "a:link.sk-estimator-doc-link.fitted,\n",
       "a:visited.sk-estimator-doc-link.fitted {\n",
       "  /* fitted */\n",
       "  border: var(--sklearn-color-fitted-level-1) 1pt solid;\n",
       "  color: var(--sklearn-color-fitted-level-1);\n",
       "}\n",
       "\n",
       "/* On hover */\n",
       "div.sk-estimator:hover .sk-estimator-doc-link:hover,\n",
       ".sk-estimator-doc-link:hover,\n",
       "div.sk-label-container:hover .sk-estimator-doc-link:hover,\n",
       ".sk-estimator-doc-link:hover {\n",
       "  /* unfitted */\n",
       "  background-color: var(--sklearn-color-unfitted-level-3);\n",
       "  color: var(--sklearn-color-background);\n",
       "  text-decoration: none;\n",
       "}\n",
       "\n",
       "div.sk-estimator.fitted:hover .sk-estimator-doc-link.fitted:hover,\n",
       ".sk-estimator-doc-link.fitted:hover,\n",
       "div.sk-label-container:hover .sk-estimator-doc-link.fitted:hover,\n",
       ".sk-estimator-doc-link.fitted:hover {\n",
       "  /* fitted */\n",
       "  background-color: var(--sklearn-color-fitted-level-3);\n",
       "  color: var(--sklearn-color-background);\n",
       "  text-decoration: none;\n",
       "}\n",
       "\n",
       "/* Span, style for the box shown on hovering the info icon */\n",
       ".sk-estimator-doc-link span {\n",
       "  display: none;\n",
       "  z-index: 9999;\n",
       "  position: relative;\n",
       "  font-weight: normal;\n",
       "  right: .2ex;\n",
       "  padding: .5ex;\n",
       "  margin: .5ex;\n",
       "  width: min-content;\n",
       "  min-width: 20ex;\n",
       "  max-width: 50ex;\n",
       "  color: var(--sklearn-color-text);\n",
       "  box-shadow: 2pt 2pt 4pt #999;\n",
       "  /* unfitted */\n",
       "  background: var(--sklearn-color-unfitted-level-0);\n",
       "  border: .5pt solid var(--sklearn-color-unfitted-level-3);\n",
       "}\n",
       "\n",
       ".sk-estimator-doc-link.fitted span {\n",
       "  /* fitted */\n",
       "  background: var(--sklearn-color-fitted-level-0);\n",
       "  border: var(--sklearn-color-fitted-level-3);\n",
       "}\n",
       "\n",
       ".sk-estimator-doc-link:hover span {\n",
       "  display: block;\n",
       "}\n",
       "\n",
       "/* \"?\"-specific style due to the `<a>` HTML tag */\n",
       "\n",
       "#sk-container-id-3 a.estimator_doc_link {\n",
       "  float: right;\n",
       "  font-size: 1rem;\n",
       "  line-height: 1em;\n",
       "  font-family: monospace;\n",
       "  background-color: var(--sklearn-color-background);\n",
       "  border-radius: 1rem;\n",
       "  height: 1rem;\n",
       "  width: 1rem;\n",
       "  text-decoration: none;\n",
       "  /* unfitted */\n",
       "  color: var(--sklearn-color-unfitted-level-1);\n",
       "  border: var(--sklearn-color-unfitted-level-1) 1pt solid;\n",
       "}\n",
       "\n",
       "#sk-container-id-3 a.estimator_doc_link.fitted {\n",
       "  /* fitted */\n",
       "  border: var(--sklearn-color-fitted-level-1) 1pt solid;\n",
       "  color: var(--sklearn-color-fitted-level-1);\n",
       "}\n",
       "\n",
       "/* On hover */\n",
       "#sk-container-id-3 a.estimator_doc_link:hover {\n",
       "  /* unfitted */\n",
       "  background-color: var(--sklearn-color-unfitted-level-3);\n",
       "  color: var(--sklearn-color-background);\n",
       "  text-decoration: none;\n",
       "}\n",
       "\n",
       "#sk-container-id-3 a.estimator_doc_link.fitted:hover {\n",
       "  /* fitted */\n",
       "  background-color: var(--sklearn-color-fitted-level-3);\n",
       "}\n",
       "</style><div id=\"sk-container-id-3\" class=\"sk-top-container\"><div class=\"sk-text-repr-fallback\"><pre>KNeighborsClassifier()</pre><b>In a Jupyter environment, please rerun this cell to show the HTML representation or trust the notebook. <br />On GitHub, the HTML representation is unable to render, please try loading this page with nbviewer.org.</b></div><div class=\"sk-container\" hidden><div class=\"sk-item\"><div class=\"sk-estimator fitted sk-toggleable\"><input class=\"sk-toggleable__control sk-hidden--visually\" id=\"sk-estimator-id-3\" type=\"checkbox\" checked><label for=\"sk-estimator-id-3\" class=\"sk-toggleable__label fitted sk-toggleable__label-arrow fitted\">&nbsp;&nbsp;KNeighborsClassifier<a class=\"sk-estimator-doc-link fitted\" rel=\"noreferrer\" target=\"_blank\" href=\"https://scikit-learn.org/1.5/modules/generated/sklearn.neighbors.KNeighborsClassifier.html\">?<span>Documentation for KNeighborsClassifier</span></a><span class=\"sk-estimator-doc-link fitted\">i<span>Fitted</span></span></label><div class=\"sk-toggleable__content fitted\"><pre>KNeighborsClassifier()</pre></div> </div></div></div></div>"
      ],
      "text/plain": [
       "KNeighborsClassifier()"
      ]
     },
     "execution_count": 118,
     "metadata": {},
     "output_type": "execute_result"
    }
   ],
   "source": [
    "from sklearn.neighbors import KNeighborsClassifier\n",
    "\n",
    "y_train_large = (y_train >= 7)\n",
    "y_train_odd = (y_train % 2 == 1)\n",
    "y_multilabel = np.c_[y_train_large, y_train_odd]\n",
    "\n",
    "knn_clf = KNeighborsClassifier()\n",
    "knn_clf.fit(X_train, y_multilabel)"
   ]
  },
  {
   "cell_type": "markdown",
   "metadata": {
    "id": "aOYwqcvxcB4A"
   },
   "source": [
    "Ahora podemos hacer una prediccióno. Observa que que produce dos etiquetas:"
   ]
  },
  {
   "cell_type": "code",
   "execution_count": null,
   "metadata": {
    "colab": {
     "base_uri": "https://localhost:8080/"
    },
    "id": "WbNoxe9HtYfR",
    "outputId": "02a8d6f6-20b7-4040-eb8c-fbc2e7b7b5b1"
   },
   "outputs": [
    {
     "data": {
      "text/plain": [
       "array([[False,  True]])"
      ]
     },
     "execution_count": 119,
     "metadata": {},
     "output_type": "execute_result"
    }
   ],
   "source": [
    "knn_clf.predict([some_digit])"
   ]
  },
  {
   "cell_type": "markdown",
   "metadata": {
    "id": "1YBtkgSjtYfR"
   },
   "source": [
    "Hay muchas formas de evaluar un clasificador multietiqueta, y la selección de la métrica adecuada depende realmente del proyecto.\n",
    "\n",
    "- Por ejemplo, un enfoque es medir $F_1$ para cada etiqueta individual (o cualquier otra métrica de clasificador binario discutida anteriormente), y luego simplemente calcular la puntuación media.\n",
    "- El siguiente código calcula $F_1$ media de todas las etiquetas:\n",
    "\n",
    "> **Warning**: la siguiente celda puede tardar mucho tiempo (posiblemente horas, dependiendo de su hardware)."
   ]
  },
  {
   "cell_type": "code",
   "execution_count": null,
   "metadata": {
    "colab": {
     "base_uri": "https://localhost:8080/"
    },
    "id": "SiRgF1ZGtYfR",
    "outputId": "ab1dff56-2b63-43ee-dadd-a97c62254add"
   },
   "outputs": [
    {
     "data": {
      "text/plain": [
       "0.9764102655606048"
      ]
     },
     "execution_count": 120,
     "metadata": {},
     "output_type": "execute_result"
    }
   ],
   "source": [
    "y_train_knn_pred = cross_val_predict(knn_clf, X_train, y_multilabel, cv=3)\n",
    "f1_score(y_multilabel, y_train_knn_pred, average=\"macro\")"
   ]
  },
  {
   "cell_type": "markdown",
   "metadata": {
    "id": "Q9KlAhqvcxSA"
   },
   "source": [
    "Esto supone que todas las etiquetas tienen la misma importancia, lo que puede no ser el caso.\n",
    "- En concreto, si usted tiene muchas más fotos de Alice que de Bob o Charlie, es posible que desee dar más peso a la puntuación del clasificador en las imágenes de Alice.\n",
    "- Una opción sencilla es es dar a cada etiqueta un peso igual a su *soporte* (es decir, el número de muestras con esa etiqueta de destino).\n",
    "- Para ello, basta con establecer `average=\"weighted\"` en el código anterior."
   ]
  },
  {
   "cell_type": "markdown",
   "metadata": {
    "id": "H83n5H8AtYfR"
   },
   "source": [
    "## Clasificación multisalida"
   ]
  },
  {
   "cell_type": "markdown",
   "metadata": {
    "id": "2Kjo1HZsdD-7"
   },
   "source": [
    "El último tipo de tarea de clasificación que vamos a tratar aquí se denomina **clasificación multi-salida**.\n",
    "\n",
    "- Se trata simplemente de una generalización de la clasificación multietiqueta en la que cada etiqueta puede ser multiclase (es decir, puede tener más de dos valores posibles).\n",
    "\n",
    "Por ejemplo, construyamos un sistema que elimine el ruido de las imágenes.\n",
    "- Tomará como entrada una imagen de dígitos con ruido y (con suerte) dará como salida una imagen de dígitos limpia, representada como una matriz de intensidades de píxeles, igual que las imágenes MNIST.\n",
    "- Observe que la salida del clasificador es multietiqueta (una etiqueta por píxel) y que cada etiqueta puede tener varios valores (la intensidad del píxel oscila entre 0 y 255).\n",
    "- Se trata, pues, de un ejemplo de sistema de clasificación multisalida.\n",
    "\n",
    "---\n",
    "**NOTA**: La línea entre clasificación y regresión es a veces difusa, como en este ejemplo.\n",
    "- Podría decirse que la predicción de la intensidad de los píxeles se parece más a la regresión que a la clasificación.\n",
    "- Por otra parte, los sistemas de salida múltiple no se limitan a las tareas de clasificación; incluso podría tener un sistema que produce múltiples etiquetas por muestra, incluyendo tanto las etiquetas de clase como las etiquetas de valor.\n",
    "\n",
    "---\n",
    "\n",
    "Empezaremos creando los conjuntos de entrenamiento y test tomando las imágenes MNIST y añadiendo ruido a sus intensidades de píxel utilizando la función `randint()` de NumPy:\n",
    "- Las imágenes objetivo serán las imágenes originales."
   ]
  },
  {
   "cell_type": "code",
   "execution_count": null,
   "metadata": {
    "id": "JxGhdkaWtYfR"
   },
   "outputs": [],
   "source": [
    "noise = np.random.randint(0, 100, (len(X_train), 784))\n",
    "X_train_mod = X_train + noise\n",
    "noise = np.random.randint(0, 100, (len(X_test), 784))\n",
    "X_test_mod = X_test + noise\n",
    "y_train_mod = X_train\n",
    "y_test_mod = X_test"
   ]
  },
  {
   "cell_type": "markdown",
   "metadata": {
    "id": "jJmqVtDFeB2o"
   },
   "source": [
    "Veamos una imagen:"
   ]
  },
  {
   "cell_type": "code",
   "execution_count": null,
   "metadata": {
    "colab": {
     "base_uri": "https://localhost:8080/",
     "height": 351
    },
    "id": "ZZXDY1B-tYfR",
    "outputId": "17f67a4f-5cf0-48d9-e5ec-b1f6f9e26ccf"
   },
   "outputs": [
    {
     "name": "stdout",
     "output_type": "stream",
     "text": [
      "Saving figure noisy_digit_example_plot\n"
     ]
    },
    {
     "data": {
      "image/png": "[encoded data removed]",
      "text/plain": [
       "<Figure size 640x480 with 2 Axes>"
      ]
     },
     "metadata": {},
     "output_type": "display_data"
    }
   ],
   "source": [
    "some_index = 0\n",
    "plt.subplot(121); plot_digit(X_test_mod[some_index])\n",
    "plt.subplot(122); plot_digit(y_test_mod[some_index])\n",
    "save_fig(\"noisy_digit_example_plot\")\n",
    "plt.show()"
   ]
  },
  {
   "cell_type": "markdown",
   "metadata": {
    "id": "l0jJgHoIeapU"
   },
   "source": [
    "A la izquierda está la imagen de entrada ruidosa, y a la derecha la imagen de destino limpia.\n",
    "\n",
    "Ahora vamos a entrenar el clasificador y hacer que limpie esta imagen:"
   ]
  },
  {
   "cell_type": "code",
   "execution_count": null,
   "metadata": {
    "colab": {
     "base_uri": "https://localhost:8080/",
     "height": 504
    },
    "id": "foa4_My8tYfS",
    "outputId": "92943cd3-d84b-4f2d-f36c-473c30ffe334"
   },
   "outputs": [
    {
     "name": "stdout",
     "output_type": "stream",
     "text": [
      "Saving figure cleaned_digit_example_plot\n"
     ]
    },
    {
     "data": {
      "image/png": "[encoded data removed]",
      "text/plain": [
       "<Figure size 640x480 with 1 Axes>"
      ]
     },
     "metadata": {},
     "output_type": "display_data"
    }
   ],
   "source": [
    "knn_clf.fit(X_train_mod, y_train_mod)\n",
    "clean_digit = knn_clf.predict([X_test_mod[some_index]])\n",
    "plot_digit(clean_digit)\n",
    "save_fig(\"cleaned_digit_example_plot\")"
   ]
  },
  {
   "cell_type": "markdown",
   "metadata": {
    "id": "ifd1j7NnwocI"
   },
   "source": [
    "\n",
    "## Ejercicios para entregar"
   ]
  },
  {
   "cell_type": "markdown",
   "metadata": {
    "id": "TVuQL7RGwxpi"
   },
   "source": [
    "### Ejercicio 1"
   ]
  },
  {
   "cell_type": "markdown",
   "metadata": {
    "id": "MUhPw5yVw0tP"
   },
   "source": [
    "Intenta construir un clasificador para el conjunto de datos MNIST que alcance una exactitud superior al 97% en el conjunto de test.\n",
    "\n",
    "> **Pista**: `KNeighborsClassifier` funciona bastante bien para esta tarea; sólo tienes que encontrar buenos valores para sus hiperparámetros."
   ]
  },
  {
   "cell_type": "markdown",
   "metadata": {
    "id": "zsOWnLf_xB9g"
   },
   "source": [
    "### Ejercicio 2"
   ]
  },
  {
   "cell_type": "markdown",
   "metadata": {
    "id": "xuYBJ5aDxKSg"
   },
   "source": [
    "Escribe una función que pueda desplazar una imagen MNIST en cualquier dirección (izquierda, derecha, arriba o abajo) en un píxel.\n",
    "\n",
    "- Puedes usar la función `shift()` del módulo scipy.ndimage.interpolation.\n",
    "  - Por ejemplo, `shift(image, [2, 1], cval=0)` desplaza la imagen 2 píxeles hacia abajo y 1 píxel hacia la derecha.\n",
    "\n",
    "A continuación, para cada imagen del conjunto de entrenamiento, crea cuatro copias desplazadas (una por dirección) y añádelas al conjunto de entrenamiento.\n",
    "\n",
    "Por último, entrena tu mejor modelo en este conjunto de entrenamiento ampliado y mida su exactitud en el conjunto de test.\n",
    "\n",
    "Observarás que tu modelo funciona aún mejor. Esta técnica de aumentar artificialmente el conjunto de entrenamiento se denomina **aumento de datos** o **ampliación del conjunto de entrenamiento**."
   ]
  },
  {
   "cell_type": "markdown",
   "metadata": {
    "id": "s0COI7AeOu3k"
   },
   "source": [
    "## Ejercicios no evaluables de repaso"
   ]
  },
  {
   "cell_type": "markdown",
   "metadata": {
    "id": "PuIfX7E-x03R"
   },
   "source": [
    "### Ejercicio 3"
   ]
  },
  {
   "cell_type": "markdown",
   "metadata": {
    "id": "nT8uHNi6x7Tq"
   },
   "source": [
    "Enfréntate al conjunto de datos del Titanic. El objetivo es predecir si un pasajero sobrevivió o no en función de atributos como su edad, sexo, clase, lugar de embarque, etc.\n",
    "\n",
    "En primer lugar, inicia sesión en [Kaggle](https://www.kaggle.com/) y ve a [Titanic challenge](https://www.kaggle.com/c/titanic) para descargar train.csv y test.csv."
   ]
  },
  {
   "cell_type": "markdown",
   "metadata": {
    "id": "Wn_0c5DlyMXH"
   },
   "source": [
    "### Ejercicio 4\n",
    "#### Este ejercicio no puntúa para la práctica."
   ]
  },
  {
   "cell_type": "markdown",
   "metadata": {
    "id": "uDI5C-Acx7Qs"
   },
   "source": [
    "Construye un clasificador de spam:\n",
    "\n",
    "- Descarga ejemplos de spam\n",
    "de [Apache SpamAssassin's public datasets](https://spamassassin.apache.org/old/publiccorpus/).\n",
    "\n",
    "- Descomprime los conjuntos de datos y familiarízate con su formato.\n",
    "\n",
    "- Divide los conjuntos de datos en un conjunto de entrenamiento y un conjunto de test.\n",
    "\n",
    "- Crea un Pipeline de preparación de datos para convertir cada correo electrónico en un vector de características.\n",
    "Tu canal de preparación debe transformar un correo electrónico en un vector\n",
    "que indique la presencia o ausencia de cada palabra posible. Por ejemplo, si todos los\n",
    "correos electrónicos sólo contienen cuatro palabras: \"Hola\", \"cómo\", \"eres\", \"tú\", entonces el correo electrónico \"Hola tú Hola Hola tú\" se convertiría en un vector [1, 0, 0, 1].\n",
    "(lo que significa que [\"Hola\" está presente, \"cómo\" está ausente, \"eres\" está ausente, \"tú\" está\n",
    "presente]), o [3, 0, 0, 2] si prefieres contar el número de apariciones de cada palabra.\n",
    "cada palabra.\n",
    "\n",
    "- Puedes añadir hiperparámetros a su proceso de preparación para controlar\n",
    "si eliminar o no las cabeceras de los correos electrónicos, convertir cada correo electrónico a minúsculas,\n",
    "eliminar la puntuación, sustituir todas las URL por \"URL\", sustituir todos los números por\n",
    "todos los números por \"NÚMERO\", o incluso realizar un *stemming* (es decir, recortar el final de las palabras).\n",
    "bibliotecas de Python para hacerlo).\n",
    "\n",
    "- A continuación, prueba varios clasificadores y comprueba si puede crear un buen clasificador de spam, con un alto nivel de sensibilidad y precisión."
   ]
  }
 ],
 "metadata": {
  "colab": {
   "provenance": [],
   "toc_visible": true
  },
  "kernelspec": {
   "display_name": ".venv",
   "language": "python",
   "name": "python3"
  },
  "language_info": {
   "codemirror_mode": {
    "name": "ipython",
    "version": 3
   },
   "file_extension": ".py",
   "mimetype": "text/x-python",
   "name": "python",
   "nbconvert_exporter": "python",
   "pygments_lexer": "ipython3",
   "version": "3.10.11"
  },
  "nav_menu": {},
  "toc": {
   "navigate_menu": true,
   "number_sections": true,
   "sideBar": true,
   "threshold": 6,
   "toc_cell": false,
   "toc_section_display": "block",
   "toc_window_display": false
  }
 },
 "nbformat": 4,
 "nbformat_minor": 0
}
