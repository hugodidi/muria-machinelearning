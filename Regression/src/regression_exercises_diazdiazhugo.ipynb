{
 "cells": [
  {
   "cell_type": "markdown",
   "id": "729fb8d0",
   "metadata": {},
   "source": [
    "# Ejercicios"
   ]
  },
  {
   "cell_type": "markdown",
   "id": "efa5d93b",
   "metadata": {},
   "source": [
    "1. ¿Qué algoritmo de entrenamiento de regresión lineal puede utilizar si dispone de un conjunto de entrenamiento con millones de características?\n",
    "\n",
    "2. Suponga que las características de su conjunto de entrenamiento tienen escalas muy diferentes. ¿Qué algoritmos podrían verse afectados por esta situación? ¿Qué puede hacerse al respecto?\n",
    "\n",
    "3. ¿Puede Gradient Descent quedarse atascado en un mínimo local al entrenar un modelo de Regresión Logística?\n",
    "\n",
    "4. ¿Todos los algoritmos Gradient Descent conducen al mismo modelo si se les deja correr el tiempo suficiente?\n",
    "\n",
    "5. Supongamos que utilizas Batch Gradient Descent y representas gráficamente el error de validación en cada epoch. Si observas que el error de validación aumenta constantemente, ¿qué puede estar pasando? ¿Cómo puede solucionarlo?\n",
    "\n",
    "6. ¿Es una buena idea detener el Mini-Batch Gradient Descent inmediatamente cuando el error de validación aumenta?\n",
    "\n",
    "7. ¿Qué algoritmo Gradient Descent (de entre los que hemos discutido) alcanzará más rápidamente la proximidad de la solución óptima? ¿Cuál convergerá realmente? ¿Cómo puedes hacer que los demás también converjan?\n",
    "\n",
    "8. Supongamos que se utiliza la regresión polinómica. Se trazan las curvas de aprendizaje y se observa que hay una gran diferencia entre el error de entrenamiento y el error de validación. ¿Qué ocurre? ¿Cuáles son las tres formas de resolverlo?\n",
    "\n",
    "9. Supongamos que se utiliza la regresión Ridge y se observa que el error de entrenamiento y el error de validación son casi iguales y bastante elevados. ¿Diría que el modelo tiene un sesgo alto o una varianza alta? ¿Debería aumentar el hiperparámetro de regularización α o reducirlo?\n",
    "\n",
    "10. ¿Por qué querría utilizar...\n",
    "- Regresión Ridge en lugar de Regresión Lineal simple (es decir, sin ninguna regularización)?\n",
    "- Lasso en lugar de Ridge Regression?\n",
    "- Elastic Net en lugar de Lasso?\n",
    "\n",
    "11. Supongamos que se desea clasificar las imágenes como exteriores/interiores y diurnas/nocturnas. ¿Debería implementar dos clasificadores de Regresión Logística o un clasificador de Regresión Softmax?\n",
    "\n",
    "12. Implementa Batch Gradient Descent con parada temprana para la Regresión Softmax (sin usar Scikit-Learn).\n"
   ]
  }
 ],
 "metadata": {
  "language_info": {
   "name": "python"
  }
 },
 "nbformat": 4,
 "nbformat_minor": 5
}
